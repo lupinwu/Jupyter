{
 "cells": [
  {
   "cell_type": "code",
   "execution_count": 1,
   "metadata": {
    "collapsed": true
   },
   "outputs": [],
   "source": [
    "import pandas as pd\n",
    "import numpy as np\n",
    "import matplotlib.pyplot as plt"
   ]
  },
  {
   "cell_type": "code",
   "execution_count": 2,
   "metadata": {
    "collapsed": false
   },
   "outputs": [
    {
     "data": {
      "text/plain": [
       "0    1.0\n",
       "1    3.0\n",
       "2    5.0\n",
       "3    NaN\n",
       "4    6.0\n",
       "5    8.0\n",
       "dtype: float64"
      ]
     },
     "execution_count": 2,
     "metadata": {},
     "output_type": "execute_result"
    }
   ],
   "source": [
    "s = pd.Series([1, 3, 5, np.nan, 6, 8])\n",
    "s"
   ]
  },
  {
   "cell_type": "code",
   "execution_count": 3,
   "metadata": {
    "collapsed": false
   },
   "outputs": [
    {
     "data": {
      "text/html": [
       "<div>\n",
       "<table border=\"1\" class=\"dataframe\">\n",
       "  <thead>\n",
       "    <tr style=\"text-align: right;\">\n",
       "      <th></th>\n",
       "      <th>A</th>\n",
       "      <th>B</th>\n",
       "      <th>C</th>\n",
       "      <th>D</th>\n",
       "    </tr>\n",
       "  </thead>\n",
       "  <tbody>\n",
       "    <tr>\n",
       "      <th>2013-01-01</th>\n",
       "      <td>-0.253192</td>\n",
       "      <td>0.336767</td>\n",
       "      <td>-0.344526</td>\n",
       "      <td>1.632057</td>\n",
       "    </tr>\n",
       "    <tr>\n",
       "      <th>2013-01-02</th>\n",
       "      <td>-1.917438</td>\n",
       "      <td>1.010548</td>\n",
       "      <td>-0.524043</td>\n",
       "      <td>0.531460</td>\n",
       "    </tr>\n",
       "    <tr>\n",
       "      <th>2013-01-03</th>\n",
       "      <td>-0.161310</td>\n",
       "      <td>0.408844</td>\n",
       "      <td>1.596556</td>\n",
       "      <td>-0.588161</td>\n",
       "    </tr>\n",
       "    <tr>\n",
       "      <th>2013-01-04</th>\n",
       "      <td>-1.215632</td>\n",
       "      <td>-0.444588</td>\n",
       "      <td>-0.565106</td>\n",
       "      <td>1.461406</td>\n",
       "    </tr>\n",
       "    <tr>\n",
       "      <th>2013-01-05</th>\n",
       "      <td>0.667230</td>\n",
       "      <td>0.413307</td>\n",
       "      <td>0.717305</td>\n",
       "      <td>0.926584</td>\n",
       "    </tr>\n",
       "    <tr>\n",
       "      <th>2013-01-06</th>\n",
       "      <td>0.665260</td>\n",
       "      <td>1.409767</td>\n",
       "      <td>-0.338998</td>\n",
       "      <td>-0.409506</td>\n",
       "    </tr>\n",
       "  </tbody>\n",
       "</table>\n",
       "</div>"
      ],
      "text/plain": [
       "                   A         B         C         D\n",
       "2013-01-01 -0.253192  0.336767 -0.344526  1.632057\n",
       "2013-01-02 -1.917438  1.010548 -0.524043  0.531460\n",
       "2013-01-03 -0.161310  0.408844  1.596556 -0.588161\n",
       "2013-01-04 -1.215632 -0.444588 -0.565106  1.461406\n",
       "2013-01-05  0.667230  0.413307  0.717305  0.926584\n",
       "2013-01-06  0.665260  1.409767 -0.338998 -0.409506"
      ]
     },
     "execution_count": 3,
     "metadata": {},
     "output_type": "execute_result"
    }
   ],
   "source": [
    "dates = pd.date_range('20130101', periods=6)\n",
    "df = pd.DataFrame(np.random.randn(6, 4), index=dates, columns=list('ABCD'))\n",
    "df"
   ]
  },
  {
   "cell_type": "code",
   "execution_count": 5,
   "metadata": {
    "collapsed": false
   },
   "outputs": [
    {
     "data": {
      "text/html": [
       "<div>\n",
       "<table border=\"1\" class=\"dataframe\">\n",
       "  <thead>\n",
       "    <tr style=\"text-align: right;\">\n",
       "      <th></th>\n",
       "      <th>A</th>\n",
       "      <th>B</th>\n",
       "      <th>C</th>\n",
       "      <th>D</th>\n",
       "      <th>E</th>\n",
       "      <th>F</th>\n",
       "    </tr>\n",
       "  </thead>\n",
       "  <tbody>\n",
       "    <tr>\n",
       "      <th>0</th>\n",
       "      <td>1.0</td>\n",
       "      <td>2013-01-02</td>\n",
       "      <td>1.0</td>\n",
       "      <td>3</td>\n",
       "      <td>test</td>\n",
       "      <td>foo</td>\n",
       "    </tr>\n",
       "    <tr>\n",
       "      <th>1</th>\n",
       "      <td>1.0</td>\n",
       "      <td>2013-01-02</td>\n",
       "      <td>1.0</td>\n",
       "      <td>3</td>\n",
       "      <td>train</td>\n",
       "      <td>foo</td>\n",
       "    </tr>\n",
       "    <tr>\n",
       "      <th>2</th>\n",
       "      <td>1.0</td>\n",
       "      <td>2013-01-02</td>\n",
       "      <td>1.0</td>\n",
       "      <td>3</td>\n",
       "      <td>test</td>\n",
       "      <td>foo</td>\n",
       "    </tr>\n",
       "    <tr>\n",
       "      <th>3</th>\n",
       "      <td>1.0</td>\n",
       "      <td>2013-01-02</td>\n",
       "      <td>1.0</td>\n",
       "      <td>3</td>\n",
       "      <td>train</td>\n",
       "      <td>foo</td>\n",
       "    </tr>\n",
       "  </tbody>\n",
       "</table>\n",
       "</div>"
      ],
      "text/plain": [
       "     A          B    C  D      E    F\n",
       "0  1.0 2013-01-02  1.0  3   test  foo\n",
       "1  1.0 2013-01-02  1.0  3  train  foo\n",
       "2  1.0 2013-01-02  1.0  3   test  foo\n",
       "3  1.0 2013-01-02  1.0  3  train  foo"
      ]
     },
     "execution_count": 5,
     "metadata": {},
     "output_type": "execute_result"
    }
   ],
   "source": [
    "df2 = pd.DataFrame({'A' : 1.,\n",
    "                    'B' : pd.Timestamp('20130102'),\n",
    "                    'C' : pd.Series(1, index=list(range(4)), dtype='float32'),\n",
    "                    'D' : np.array([3] * 4, dtype='int32'),\n",
    "                    'E' : pd.Categorical(['test', 'train', 'test', 'train']),\n",
    "                    'F' : 'foo' \n",
    "                   })\n",
    "df2"
   ]
  },
  {
   "cell_type": "code",
   "execution_count": 7,
   "metadata": {
    "collapsed": false
   },
   "outputs": [
    {
     "data": {
      "text/plain": [
       "A           float64\n",
       "B    datetime64[ns]\n",
       "C           float32\n",
       "D             int32\n",
       "E          category\n",
       "F            object\n",
       "dtype: object"
      ]
     },
     "execution_count": 7,
     "metadata": {},
     "output_type": "execute_result"
    }
   ],
   "source": [
    "df2.dtypes"
   ]
  },
  {
   "cell_type": "code",
   "execution_count": 8,
   "metadata": {
    "collapsed": false
   },
   "outputs": [
    {
     "data": {
      "text/html": [
       "<div>\n",
       "<table border=\"1\" class=\"dataframe\">\n",
       "  <thead>\n",
       "    <tr style=\"text-align: right;\">\n",
       "      <th></th>\n",
       "      <th>A</th>\n",
       "      <th>B</th>\n",
       "      <th>C</th>\n",
       "      <th>D</th>\n",
       "    </tr>\n",
       "  </thead>\n",
       "  <tbody>\n",
       "    <tr>\n",
       "      <th>2013-01-01</th>\n",
       "      <td>-0.253192</td>\n",
       "      <td>0.336767</td>\n",
       "      <td>-0.344526</td>\n",
       "      <td>1.632057</td>\n",
       "    </tr>\n",
       "    <tr>\n",
       "      <th>2013-01-02</th>\n",
       "      <td>-1.917438</td>\n",
       "      <td>1.010548</td>\n",
       "      <td>-0.524043</td>\n",
       "      <td>0.531460</td>\n",
       "    </tr>\n",
       "    <tr>\n",
       "      <th>2013-01-03</th>\n",
       "      <td>-0.161310</td>\n",
       "      <td>0.408844</td>\n",
       "      <td>1.596556</td>\n",
       "      <td>-0.588161</td>\n",
       "    </tr>\n",
       "    <tr>\n",
       "      <th>2013-01-04</th>\n",
       "      <td>-1.215632</td>\n",
       "      <td>-0.444588</td>\n",
       "      <td>-0.565106</td>\n",
       "      <td>1.461406</td>\n",
       "    </tr>\n",
       "    <tr>\n",
       "      <th>2013-01-05</th>\n",
       "      <td>0.667230</td>\n",
       "      <td>0.413307</td>\n",
       "      <td>0.717305</td>\n",
       "      <td>0.926584</td>\n",
       "    </tr>\n",
       "  </tbody>\n",
       "</table>\n",
       "</div>"
      ],
      "text/plain": [
       "                   A         B         C         D\n",
       "2013-01-01 -0.253192  0.336767 -0.344526  1.632057\n",
       "2013-01-02 -1.917438  1.010548 -0.524043  0.531460\n",
       "2013-01-03 -0.161310  0.408844  1.596556 -0.588161\n",
       "2013-01-04 -1.215632 -0.444588 -0.565106  1.461406\n",
       "2013-01-05  0.667230  0.413307  0.717305  0.926584"
      ]
     },
     "execution_count": 8,
     "metadata": {},
     "output_type": "execute_result"
    }
   ],
   "source": [
    "df.head()"
   ]
  },
  {
   "cell_type": "code",
   "execution_count": 9,
   "metadata": {
    "collapsed": false
   },
   "outputs": [
    {
     "data": {
      "text/html": [
       "<div>\n",
       "<table border=\"1\" class=\"dataframe\">\n",
       "  <thead>\n",
       "    <tr style=\"text-align: right;\">\n",
       "      <th></th>\n",
       "      <th>A</th>\n",
       "      <th>B</th>\n",
       "      <th>C</th>\n",
       "      <th>D</th>\n",
       "    </tr>\n",
       "  </thead>\n",
       "  <tbody>\n",
       "    <tr>\n",
       "      <th>2013-01-04</th>\n",
       "      <td>-1.215632</td>\n",
       "      <td>-0.444588</td>\n",
       "      <td>-0.565106</td>\n",
       "      <td>1.461406</td>\n",
       "    </tr>\n",
       "    <tr>\n",
       "      <th>2013-01-05</th>\n",
       "      <td>0.667230</td>\n",
       "      <td>0.413307</td>\n",
       "      <td>0.717305</td>\n",
       "      <td>0.926584</td>\n",
       "    </tr>\n",
       "    <tr>\n",
       "      <th>2013-01-06</th>\n",
       "      <td>0.665260</td>\n",
       "      <td>1.409767</td>\n",
       "      <td>-0.338998</td>\n",
       "      <td>-0.409506</td>\n",
       "    </tr>\n",
       "  </tbody>\n",
       "</table>\n",
       "</div>"
      ],
      "text/plain": [
       "                   A         B         C         D\n",
       "2013-01-04 -1.215632 -0.444588 -0.565106  1.461406\n",
       "2013-01-05  0.667230  0.413307  0.717305  0.926584\n",
       "2013-01-06  0.665260  1.409767 -0.338998 -0.409506"
      ]
     },
     "execution_count": 9,
     "metadata": {},
     "output_type": "execute_result"
    }
   ],
   "source": [
    "df.tail(3)"
   ]
  },
  {
   "cell_type": "code",
   "execution_count": 10,
   "metadata": {
    "collapsed": false
   },
   "outputs": [
    {
     "data": {
      "text/plain": [
       "DatetimeIndex(['2013-01-01', '2013-01-02', '2013-01-03', '2013-01-04',\n",
       "               '2013-01-05', '2013-01-06'],\n",
       "              dtype='datetime64[ns]', freq='D')"
      ]
     },
     "execution_count": 10,
     "metadata": {},
     "output_type": "execute_result"
    }
   ],
   "source": [
    "df.index"
   ]
  },
  {
   "cell_type": "code",
   "execution_count": 11,
   "metadata": {
    "collapsed": false
   },
   "outputs": [
    {
     "data": {
      "text/plain": [
       "Index(['A', 'B', 'C', 'D'], dtype='object')"
      ]
     },
     "execution_count": 11,
     "metadata": {},
     "output_type": "execute_result"
    }
   ],
   "source": [
    "df.columns"
   ]
  },
  {
   "cell_type": "code",
   "execution_count": 12,
   "metadata": {
    "collapsed": false
   },
   "outputs": [
    {
     "data": {
      "text/plain": [
       "array([[-0.25319193,  0.33676712, -0.34452595,  1.63205738],\n",
       "       [-1.9174377 ,  1.0105477 , -0.52404334,  0.53145952],\n",
       "       [-0.16130977,  0.40884427,  1.5965561 , -0.58816069],\n",
       "       [-1.21563167, -0.44458814, -0.56510591,  1.46140586],\n",
       "       [ 0.66723042,  0.41330725,  0.717305  ,  0.92658386],\n",
       "       [ 0.66525977,  1.40976708, -0.33899804, -0.40950622]])"
      ]
     },
     "execution_count": 12,
     "metadata": {},
     "output_type": "execute_result"
    }
   ],
   "source": [
    "df.values"
   ]
  },
  {
   "cell_type": "code",
   "execution_count": 13,
   "metadata": {
    "collapsed": false
   },
   "outputs": [
    {
     "data": {
      "text/html": [
       "<div>\n",
       "<table border=\"1\" class=\"dataframe\">\n",
       "  <thead>\n",
       "    <tr style=\"text-align: right;\">\n",
       "      <th></th>\n",
       "      <th>A</th>\n",
       "      <th>B</th>\n",
       "      <th>C</th>\n",
       "      <th>D</th>\n",
       "    </tr>\n",
       "  </thead>\n",
       "  <tbody>\n",
       "    <tr>\n",
       "      <th>count</th>\n",
       "      <td>6.000000</td>\n",
       "      <td>6.000000</td>\n",
       "      <td>6.000000</td>\n",
       "      <td>6.000000</td>\n",
       "    </tr>\n",
       "    <tr>\n",
       "      <th>mean</th>\n",
       "      <td>-0.369180</td>\n",
       "      <td>0.522441</td>\n",
       "      <td>0.090198</td>\n",
       "      <td>0.592307</td>\n",
       "    </tr>\n",
       "    <tr>\n",
       "      <th>std</th>\n",
       "      <td>1.030966</td>\n",
       "      <td>0.635615</td>\n",
       "      <td>0.876617</td>\n",
       "      <td>0.932630</td>\n",
       "    </tr>\n",
       "    <tr>\n",
       "      <th>min</th>\n",
       "      <td>-1.917438</td>\n",
       "      <td>-0.444588</td>\n",
       "      <td>-0.565106</td>\n",
       "      <td>-0.588161</td>\n",
       "    </tr>\n",
       "    <tr>\n",
       "      <th>25%</th>\n",
       "      <td>-0.975022</td>\n",
       "      <td>0.354786</td>\n",
       "      <td>-0.479164</td>\n",
       "      <td>-0.174265</td>\n",
       "    </tr>\n",
       "    <tr>\n",
       "      <th>50%</th>\n",
       "      <td>-0.207251</td>\n",
       "      <td>0.411076</td>\n",
       "      <td>-0.341762</td>\n",
       "      <td>0.729022</td>\n",
       "    </tr>\n",
       "    <tr>\n",
       "      <th>75%</th>\n",
       "      <td>0.458617</td>\n",
       "      <td>0.861238</td>\n",
       "      <td>0.453229</td>\n",
       "      <td>1.327700</td>\n",
       "    </tr>\n",
       "    <tr>\n",
       "      <th>max</th>\n",
       "      <td>0.667230</td>\n",
       "      <td>1.409767</td>\n",
       "      <td>1.596556</td>\n",
       "      <td>1.632057</td>\n",
       "    </tr>\n",
       "  </tbody>\n",
       "</table>\n",
       "</div>"
      ],
      "text/plain": [
       "              A         B         C         D\n",
       "count  6.000000  6.000000  6.000000  6.000000\n",
       "mean  -0.369180  0.522441  0.090198  0.592307\n",
       "std    1.030966  0.635615  0.876617  0.932630\n",
       "min   -1.917438 -0.444588 -0.565106 -0.588161\n",
       "25%   -0.975022  0.354786 -0.479164 -0.174265\n",
       "50%   -0.207251  0.411076 -0.341762  0.729022\n",
       "75%    0.458617  0.861238  0.453229  1.327700\n",
       "max    0.667230  1.409767  1.596556  1.632057"
      ]
     },
     "execution_count": 13,
     "metadata": {},
     "output_type": "execute_result"
    }
   ],
   "source": [
    "df.describe()"
   ]
  },
  {
   "cell_type": "code",
   "execution_count": 14,
   "metadata": {
    "collapsed": false
   },
   "outputs": [
    {
     "data": {
      "text/html": [
       "<div>\n",
       "<table border=\"1\" class=\"dataframe\">\n",
       "  <thead>\n",
       "    <tr style=\"text-align: right;\">\n",
       "      <th></th>\n",
       "      <th>2013-01-01 00:00:00</th>\n",
       "      <th>2013-01-02 00:00:00</th>\n",
       "      <th>2013-01-03 00:00:00</th>\n",
       "      <th>2013-01-04 00:00:00</th>\n",
       "      <th>2013-01-05 00:00:00</th>\n",
       "      <th>2013-01-06 00:00:00</th>\n",
       "    </tr>\n",
       "  </thead>\n",
       "  <tbody>\n",
       "    <tr>\n",
       "      <th>A</th>\n",
       "      <td>-0.253192</td>\n",
       "      <td>-1.917438</td>\n",
       "      <td>-0.161310</td>\n",
       "      <td>-1.215632</td>\n",
       "      <td>0.667230</td>\n",
       "      <td>0.665260</td>\n",
       "    </tr>\n",
       "    <tr>\n",
       "      <th>B</th>\n",
       "      <td>0.336767</td>\n",
       "      <td>1.010548</td>\n",
       "      <td>0.408844</td>\n",
       "      <td>-0.444588</td>\n",
       "      <td>0.413307</td>\n",
       "      <td>1.409767</td>\n",
       "    </tr>\n",
       "    <tr>\n",
       "      <th>C</th>\n",
       "      <td>-0.344526</td>\n",
       "      <td>-0.524043</td>\n",
       "      <td>1.596556</td>\n",
       "      <td>-0.565106</td>\n",
       "      <td>0.717305</td>\n",
       "      <td>-0.338998</td>\n",
       "    </tr>\n",
       "    <tr>\n",
       "      <th>D</th>\n",
       "      <td>1.632057</td>\n",
       "      <td>0.531460</td>\n",
       "      <td>-0.588161</td>\n",
       "      <td>1.461406</td>\n",
       "      <td>0.926584</td>\n",
       "      <td>-0.409506</td>\n",
       "    </tr>\n",
       "  </tbody>\n",
       "</table>\n",
       "</div>"
      ],
      "text/plain": [
       "   2013-01-01  2013-01-02  2013-01-03  2013-01-04  2013-01-05  2013-01-06\n",
       "A   -0.253192   -1.917438   -0.161310   -1.215632    0.667230    0.665260\n",
       "B    0.336767    1.010548    0.408844   -0.444588    0.413307    1.409767\n",
       "C   -0.344526   -0.524043    1.596556   -0.565106    0.717305   -0.338998\n",
       "D    1.632057    0.531460   -0.588161    1.461406    0.926584   -0.409506"
      ]
     },
     "execution_count": 14,
     "metadata": {},
     "output_type": "execute_result"
    }
   ],
   "source": [
    "df.T"
   ]
  },
  {
   "cell_type": "code",
   "execution_count": 15,
   "metadata": {
    "collapsed": false
   },
   "outputs": [
    {
     "data": {
      "text/html": [
       "<div>\n",
       "<table border=\"1\" class=\"dataframe\">\n",
       "  <thead>\n",
       "    <tr style=\"text-align: right;\">\n",
       "      <th></th>\n",
       "      <th>D</th>\n",
       "      <th>C</th>\n",
       "      <th>B</th>\n",
       "      <th>A</th>\n",
       "    </tr>\n",
       "  </thead>\n",
       "  <tbody>\n",
       "    <tr>\n",
       "      <th>2013-01-01</th>\n",
       "      <td>1.632057</td>\n",
       "      <td>-0.344526</td>\n",
       "      <td>0.336767</td>\n",
       "      <td>-0.253192</td>\n",
       "    </tr>\n",
       "    <tr>\n",
       "      <th>2013-01-02</th>\n",
       "      <td>0.531460</td>\n",
       "      <td>-0.524043</td>\n",
       "      <td>1.010548</td>\n",
       "      <td>-1.917438</td>\n",
       "    </tr>\n",
       "    <tr>\n",
       "      <th>2013-01-03</th>\n",
       "      <td>-0.588161</td>\n",
       "      <td>1.596556</td>\n",
       "      <td>0.408844</td>\n",
       "      <td>-0.161310</td>\n",
       "    </tr>\n",
       "    <tr>\n",
       "      <th>2013-01-04</th>\n",
       "      <td>1.461406</td>\n",
       "      <td>-0.565106</td>\n",
       "      <td>-0.444588</td>\n",
       "      <td>-1.215632</td>\n",
       "    </tr>\n",
       "    <tr>\n",
       "      <th>2013-01-05</th>\n",
       "      <td>0.926584</td>\n",
       "      <td>0.717305</td>\n",
       "      <td>0.413307</td>\n",
       "      <td>0.667230</td>\n",
       "    </tr>\n",
       "    <tr>\n",
       "      <th>2013-01-06</th>\n",
       "      <td>-0.409506</td>\n",
       "      <td>-0.338998</td>\n",
       "      <td>1.409767</td>\n",
       "      <td>0.665260</td>\n",
       "    </tr>\n",
       "  </tbody>\n",
       "</table>\n",
       "</div>"
      ],
      "text/plain": [
       "                   D         C         B         A\n",
       "2013-01-01  1.632057 -0.344526  0.336767 -0.253192\n",
       "2013-01-02  0.531460 -0.524043  1.010548 -1.917438\n",
       "2013-01-03 -0.588161  1.596556  0.408844 -0.161310\n",
       "2013-01-04  1.461406 -0.565106 -0.444588 -1.215632\n",
       "2013-01-05  0.926584  0.717305  0.413307  0.667230\n",
       "2013-01-06 -0.409506 -0.338998  1.409767  0.665260"
      ]
     },
     "execution_count": 15,
     "metadata": {},
     "output_type": "execute_result"
    }
   ],
   "source": [
    "df.sort_index(axis=1, ascending=False)"
   ]
  },
  {
   "cell_type": "code",
   "execution_count": 19,
   "metadata": {
    "collapsed": false
   },
   "outputs": [
    {
     "data": {
      "text/plain": [
       "2013-01-01   -0.253192\n",
       "2013-01-02   -1.917438\n",
       "2013-01-03   -0.161310\n",
       "2013-01-04   -1.215632\n",
       "2013-01-05    0.667230\n",
       "2013-01-06    0.665260\n",
       "Freq: D, Name: A, dtype: float64"
      ]
     },
     "execution_count": 19,
     "metadata": {},
     "output_type": "execute_result"
    }
   ],
   "source": [
    "df['A']"
   ]
  },
  {
   "cell_type": "code",
   "execution_count": 20,
   "metadata": {
    "collapsed": false
   },
   "outputs": [
    {
     "data": {
      "text/html": [
       "<div>\n",
       "<table border=\"1\" class=\"dataframe\">\n",
       "  <thead>\n",
       "    <tr style=\"text-align: right;\">\n",
       "      <th></th>\n",
       "      <th>A</th>\n",
       "      <th>B</th>\n",
       "      <th>C</th>\n",
       "      <th>D</th>\n",
       "    </tr>\n",
       "  </thead>\n",
       "  <tbody>\n",
       "    <tr>\n",
       "      <th>2013-01-01</th>\n",
       "      <td>-0.253192</td>\n",
       "      <td>0.336767</td>\n",
       "      <td>-0.344526</td>\n",
       "      <td>1.632057</td>\n",
       "    </tr>\n",
       "    <tr>\n",
       "      <th>2013-01-02</th>\n",
       "      <td>-1.917438</td>\n",
       "      <td>1.010548</td>\n",
       "      <td>-0.524043</td>\n",
       "      <td>0.531460</td>\n",
       "    </tr>\n",
       "    <tr>\n",
       "      <th>2013-01-03</th>\n",
       "      <td>-0.161310</td>\n",
       "      <td>0.408844</td>\n",
       "      <td>1.596556</td>\n",
       "      <td>-0.588161</td>\n",
       "    </tr>\n",
       "  </tbody>\n",
       "</table>\n",
       "</div>"
      ],
      "text/plain": [
       "                   A         B         C         D\n",
       "2013-01-01 -0.253192  0.336767 -0.344526  1.632057\n",
       "2013-01-02 -1.917438  1.010548 -0.524043  0.531460\n",
       "2013-01-03 -0.161310  0.408844  1.596556 -0.588161"
      ]
     },
     "execution_count": 20,
     "metadata": {},
     "output_type": "execute_result"
    }
   ],
   "source": [
    "df[0:3]"
   ]
  },
  {
   "cell_type": "code",
   "execution_count": 21,
   "metadata": {
    "collapsed": false
   },
   "outputs": [
    {
     "data": {
      "text/html": [
       "<div>\n",
       "<table border=\"1\" class=\"dataframe\">\n",
       "  <thead>\n",
       "    <tr style=\"text-align: right;\">\n",
       "      <th></th>\n",
       "      <th>A</th>\n",
       "      <th>B</th>\n",
       "      <th>C</th>\n",
       "      <th>D</th>\n",
       "    </tr>\n",
       "  </thead>\n",
       "  <tbody>\n",
       "    <tr>\n",
       "      <th>2013-01-02</th>\n",
       "      <td>-1.917438</td>\n",
       "      <td>1.010548</td>\n",
       "      <td>-0.524043</td>\n",
       "      <td>0.531460</td>\n",
       "    </tr>\n",
       "    <tr>\n",
       "      <th>2013-01-03</th>\n",
       "      <td>-0.161310</td>\n",
       "      <td>0.408844</td>\n",
       "      <td>1.596556</td>\n",
       "      <td>-0.588161</td>\n",
       "    </tr>\n",
       "    <tr>\n",
       "      <th>2013-01-04</th>\n",
       "      <td>-1.215632</td>\n",
       "      <td>-0.444588</td>\n",
       "      <td>-0.565106</td>\n",
       "      <td>1.461406</td>\n",
       "    </tr>\n",
       "  </tbody>\n",
       "</table>\n",
       "</div>"
      ],
      "text/plain": [
       "                   A         B         C         D\n",
       "2013-01-02 -1.917438  1.010548 -0.524043  0.531460\n",
       "2013-01-03 -0.161310  0.408844  1.596556 -0.588161\n",
       "2013-01-04 -1.215632 -0.444588 -0.565106  1.461406"
      ]
     },
     "execution_count": 21,
     "metadata": {},
     "output_type": "execute_result"
    }
   ],
   "source": [
    "df['20130102':'20130104']"
   ]
  },
  {
   "cell_type": "code",
   "execution_count": 22,
   "metadata": {
    "collapsed": false
   },
   "outputs": [
    {
     "data": {
      "text/plain": [
       "A   -0.253192\n",
       "B    0.336767\n",
       "C   -0.344526\n",
       "D    1.632057\n",
       "Name: 2013-01-01 00:00:00, dtype: float64"
      ]
     },
     "execution_count": 22,
     "metadata": {},
     "output_type": "execute_result"
    }
   ],
   "source": [
    "df.loc[dates[0]]"
   ]
  },
  {
   "cell_type": "code",
   "execution_count": 24,
   "metadata": {
    "collapsed": false
   },
   "outputs": [
    {
     "data": {
      "text/html": [
       "<div>\n",
       "<table border=\"1\" class=\"dataframe\">\n",
       "  <thead>\n",
       "    <tr style=\"text-align: right;\">\n",
       "      <th></th>\n",
       "      <th>A</th>\n",
       "      <th>B</th>\n",
       "    </tr>\n",
       "  </thead>\n",
       "  <tbody>\n",
       "    <tr>\n",
       "      <th>2013-01-01</th>\n",
       "      <td>-0.253192</td>\n",
       "      <td>0.336767</td>\n",
       "    </tr>\n",
       "    <tr>\n",
       "      <th>2013-01-02</th>\n",
       "      <td>-1.917438</td>\n",
       "      <td>1.010548</td>\n",
       "    </tr>\n",
       "    <tr>\n",
       "      <th>2013-01-03</th>\n",
       "      <td>-0.161310</td>\n",
       "      <td>0.408844</td>\n",
       "    </tr>\n",
       "    <tr>\n",
       "      <th>2013-01-04</th>\n",
       "      <td>-1.215632</td>\n",
       "      <td>-0.444588</td>\n",
       "    </tr>\n",
       "    <tr>\n",
       "      <th>2013-01-05</th>\n",
       "      <td>0.667230</td>\n",
       "      <td>0.413307</td>\n",
       "    </tr>\n",
       "    <tr>\n",
       "      <th>2013-01-06</th>\n",
       "      <td>0.665260</td>\n",
       "      <td>1.409767</td>\n",
       "    </tr>\n",
       "  </tbody>\n",
       "</table>\n",
       "</div>"
      ],
      "text/plain": [
       "                   A         B\n",
       "2013-01-01 -0.253192  0.336767\n",
       "2013-01-02 -1.917438  1.010548\n",
       "2013-01-03 -0.161310  0.408844\n",
       "2013-01-04 -1.215632 -0.444588\n",
       "2013-01-05  0.667230  0.413307\n",
       "2013-01-06  0.665260  1.409767"
      ]
     },
     "execution_count": 24,
     "metadata": {},
     "output_type": "execute_result"
    }
   ],
   "source": [
    "df.loc[:, ['A', 'B']]"
   ]
  },
  {
   "cell_type": "code",
   "execution_count": 25,
   "metadata": {
    "collapsed": false
   },
   "outputs": [
    {
     "data": {
      "text/plain": [
       "-0.25319193426112857"
      ]
     },
     "execution_count": 25,
     "metadata": {},
     "output_type": "execute_result"
    }
   ],
   "source": [
    "df.loc[dates[0], 'A']"
   ]
  },
  {
   "cell_type": "code",
   "execution_count": 26,
   "metadata": {
    "collapsed": false
   },
   "outputs": [
    {
     "data": {
      "text/plain": [
       "-0.25319193426112857"
      ]
     },
     "execution_count": 26,
     "metadata": {},
     "output_type": "execute_result"
    }
   ],
   "source": [
    "df.at[dates[0], 'A']"
   ]
  },
  {
   "cell_type": "code",
   "execution_count": 27,
   "metadata": {
    "collapsed": false
   },
   "outputs": [
    {
     "data": {
      "text/plain": [
       "A   -1.215632\n",
       "B   -0.444588\n",
       "C   -0.565106\n",
       "D    1.461406\n",
       "Name: 2013-01-04 00:00:00, dtype: float64"
      ]
     },
     "execution_count": 27,
     "metadata": {},
     "output_type": "execute_result"
    }
   ],
   "source": [
    "df.iloc[3]"
   ]
  },
  {
   "cell_type": "code",
   "execution_count": 28,
   "metadata": {
    "collapsed": false
   },
   "outputs": [
    {
     "data": {
      "text/html": [
       "<div>\n",
       "<table border=\"1\" class=\"dataframe\">\n",
       "  <thead>\n",
       "    <tr style=\"text-align: right;\">\n",
       "      <th></th>\n",
       "      <th>A</th>\n",
       "      <th>B</th>\n",
       "    </tr>\n",
       "  </thead>\n",
       "  <tbody>\n",
       "    <tr>\n",
       "      <th>2013-01-04</th>\n",
       "      <td>-1.215632</td>\n",
       "      <td>-0.444588</td>\n",
       "    </tr>\n",
       "    <tr>\n",
       "      <th>2013-01-05</th>\n",
       "      <td>0.667230</td>\n",
       "      <td>0.413307</td>\n",
       "    </tr>\n",
       "  </tbody>\n",
       "</table>\n",
       "</div>"
      ],
      "text/plain": [
       "                   A         B\n",
       "2013-01-04 -1.215632 -0.444588\n",
       "2013-01-05  0.667230  0.413307"
      ]
     },
     "execution_count": 28,
     "metadata": {},
     "output_type": "execute_result"
    }
   ],
   "source": [
    "df.iloc[3:5, 0:2]"
   ]
  },
  {
   "cell_type": "code",
   "execution_count": 29,
   "metadata": {
    "collapsed": false
   },
   "outputs": [
    {
     "data": {
      "text/html": [
       "<div>\n",
       "<table border=\"1\" class=\"dataframe\">\n",
       "  <thead>\n",
       "    <tr style=\"text-align: right;\">\n",
       "      <th></th>\n",
       "      <th>A</th>\n",
       "      <th>C</th>\n",
       "    </tr>\n",
       "  </thead>\n",
       "  <tbody>\n",
       "    <tr>\n",
       "      <th>2013-01-02</th>\n",
       "      <td>-1.917438</td>\n",
       "      <td>-0.524043</td>\n",
       "    </tr>\n",
       "    <tr>\n",
       "      <th>2013-01-03</th>\n",
       "      <td>-0.161310</td>\n",
       "      <td>1.596556</td>\n",
       "    </tr>\n",
       "    <tr>\n",
       "      <th>2013-01-05</th>\n",
       "      <td>0.667230</td>\n",
       "      <td>0.717305</td>\n",
       "    </tr>\n",
       "  </tbody>\n",
       "</table>\n",
       "</div>"
      ],
      "text/plain": [
       "                   A         C\n",
       "2013-01-02 -1.917438 -0.524043\n",
       "2013-01-03 -0.161310  1.596556\n",
       "2013-01-05  0.667230  0.717305"
      ]
     },
     "execution_count": 29,
     "metadata": {},
     "output_type": "execute_result"
    }
   ],
   "source": [
    "df.iloc[[1, 2, 4], [0, 2]]"
   ]
  },
  {
   "cell_type": "code",
   "execution_count": 30,
   "metadata": {
    "collapsed": false
   },
   "outputs": [
    {
     "data": {
      "text/plain": [
       "1.0105476994514515"
      ]
     },
     "execution_count": 30,
     "metadata": {},
     "output_type": "execute_result"
    }
   ],
   "source": [
    "df.iloc[1, 1]"
   ]
  },
  {
   "cell_type": "code",
   "execution_count": 31,
   "metadata": {
    "collapsed": false
   },
   "outputs": [
    {
     "data": {
      "text/plain": [
       "1.0105476994514515"
      ]
     },
     "execution_count": 31,
     "metadata": {},
     "output_type": "execute_result"
    }
   ],
   "source": [
    "df.iat[1, 1]"
   ]
  },
  {
   "cell_type": "code",
   "execution_count": 32,
   "metadata": {
    "collapsed": false
   },
   "outputs": [
    {
     "data": {
      "text/html": [
       "<div>\n",
       "<table border=\"1\" class=\"dataframe\">\n",
       "  <thead>\n",
       "    <tr style=\"text-align: right;\">\n",
       "      <th></th>\n",
       "      <th>A</th>\n",
       "      <th>B</th>\n",
       "      <th>C</th>\n",
       "      <th>D</th>\n",
       "    </tr>\n",
       "  </thead>\n",
       "  <tbody>\n",
       "    <tr>\n",
       "      <th>2013-01-05</th>\n",
       "      <td>0.66723</td>\n",
       "      <td>0.413307</td>\n",
       "      <td>0.717305</td>\n",
       "      <td>0.926584</td>\n",
       "    </tr>\n",
       "    <tr>\n",
       "      <th>2013-01-06</th>\n",
       "      <td>0.66526</td>\n",
       "      <td>1.409767</td>\n",
       "      <td>-0.338998</td>\n",
       "      <td>-0.409506</td>\n",
       "    </tr>\n",
       "  </tbody>\n",
       "</table>\n",
       "</div>"
      ],
      "text/plain": [
       "                  A         B         C         D\n",
       "2013-01-05  0.66723  0.413307  0.717305  0.926584\n",
       "2013-01-06  0.66526  1.409767 -0.338998 -0.409506"
      ]
     },
     "execution_count": 32,
     "metadata": {},
     "output_type": "execute_result"
    }
   ],
   "source": [
    "df[df.A > 0]"
   ]
  },
  {
   "cell_type": "code",
   "execution_count": 33,
   "metadata": {
    "collapsed": false
   },
   "outputs": [
    {
     "data": {
      "text/html": [
       "<div>\n",
       "<table border=\"1\" class=\"dataframe\">\n",
       "  <thead>\n",
       "    <tr style=\"text-align: right;\">\n",
       "      <th></th>\n",
       "      <th>A</th>\n",
       "      <th>B</th>\n",
       "      <th>C</th>\n",
       "      <th>D</th>\n",
       "    </tr>\n",
       "  </thead>\n",
       "  <tbody>\n",
       "    <tr>\n",
       "      <th>2013-01-01</th>\n",
       "      <td>NaN</td>\n",
       "      <td>0.336767</td>\n",
       "      <td>NaN</td>\n",
       "      <td>1.632057</td>\n",
       "    </tr>\n",
       "    <tr>\n",
       "      <th>2013-01-02</th>\n",
       "      <td>NaN</td>\n",
       "      <td>1.010548</td>\n",
       "      <td>NaN</td>\n",
       "      <td>0.531460</td>\n",
       "    </tr>\n",
       "    <tr>\n",
       "      <th>2013-01-03</th>\n",
       "      <td>NaN</td>\n",
       "      <td>0.408844</td>\n",
       "      <td>1.596556</td>\n",
       "      <td>NaN</td>\n",
       "    </tr>\n",
       "    <tr>\n",
       "      <th>2013-01-04</th>\n",
       "      <td>NaN</td>\n",
       "      <td>NaN</td>\n",
       "      <td>NaN</td>\n",
       "      <td>1.461406</td>\n",
       "    </tr>\n",
       "    <tr>\n",
       "      <th>2013-01-05</th>\n",
       "      <td>0.66723</td>\n",
       "      <td>0.413307</td>\n",
       "      <td>0.717305</td>\n",
       "      <td>0.926584</td>\n",
       "    </tr>\n",
       "    <tr>\n",
       "      <th>2013-01-06</th>\n",
       "      <td>0.66526</td>\n",
       "      <td>1.409767</td>\n",
       "      <td>NaN</td>\n",
       "      <td>NaN</td>\n",
       "    </tr>\n",
       "  </tbody>\n",
       "</table>\n",
       "</div>"
      ],
      "text/plain": [
       "                  A         B         C         D\n",
       "2013-01-01      NaN  0.336767       NaN  1.632057\n",
       "2013-01-02      NaN  1.010548       NaN  0.531460\n",
       "2013-01-03      NaN  0.408844  1.596556       NaN\n",
       "2013-01-04      NaN       NaN       NaN  1.461406\n",
       "2013-01-05  0.66723  0.413307  0.717305  0.926584\n",
       "2013-01-06  0.66526  1.409767       NaN       NaN"
      ]
     },
     "execution_count": 33,
     "metadata": {},
     "output_type": "execute_result"
    }
   ],
   "source": [
    "df[df > 0]"
   ]
  },
  {
   "cell_type": "code",
   "execution_count": 36,
   "metadata": {
    "collapsed": false
   },
   "outputs": [
    {
     "data": {
      "text/html": [
       "<div>\n",
       "<table border=\"1\" class=\"dataframe\">\n",
       "  <thead>\n",
       "    <tr style=\"text-align: right;\">\n",
       "      <th></th>\n",
       "      <th>A</th>\n",
       "      <th>B</th>\n",
       "      <th>C</th>\n",
       "      <th>D</th>\n",
       "      <th>E</th>\n",
       "    </tr>\n",
       "  </thead>\n",
       "  <tbody>\n",
       "    <tr>\n",
       "      <th>2013-01-01</th>\n",
       "      <td>-0.253192</td>\n",
       "      <td>0.336767</td>\n",
       "      <td>-0.344526</td>\n",
       "      <td>1.632057</td>\n",
       "      <td>one</td>\n",
       "    </tr>\n",
       "    <tr>\n",
       "      <th>2013-01-02</th>\n",
       "      <td>-1.917438</td>\n",
       "      <td>1.010548</td>\n",
       "      <td>-0.524043</td>\n",
       "      <td>0.531460</td>\n",
       "      <td>one</td>\n",
       "    </tr>\n",
       "    <tr>\n",
       "      <th>2013-01-03</th>\n",
       "      <td>-0.161310</td>\n",
       "      <td>0.408844</td>\n",
       "      <td>1.596556</td>\n",
       "      <td>-0.588161</td>\n",
       "      <td>two</td>\n",
       "    </tr>\n",
       "    <tr>\n",
       "      <th>2013-01-04</th>\n",
       "      <td>-1.215632</td>\n",
       "      <td>-0.444588</td>\n",
       "      <td>-0.565106</td>\n",
       "      <td>1.461406</td>\n",
       "      <td>three</td>\n",
       "    </tr>\n",
       "    <tr>\n",
       "      <th>2013-01-05</th>\n",
       "      <td>0.667230</td>\n",
       "      <td>0.413307</td>\n",
       "      <td>0.717305</td>\n",
       "      <td>0.926584</td>\n",
       "      <td>four</td>\n",
       "    </tr>\n",
       "    <tr>\n",
       "      <th>2013-01-06</th>\n",
       "      <td>0.665260</td>\n",
       "      <td>1.409767</td>\n",
       "      <td>-0.338998</td>\n",
       "      <td>-0.409506</td>\n",
       "      <td>three</td>\n",
       "    </tr>\n",
       "  </tbody>\n",
       "</table>\n",
       "</div>"
      ],
      "text/plain": [
       "                   A         B         C         D      E\n",
       "2013-01-01 -0.253192  0.336767 -0.344526  1.632057    one\n",
       "2013-01-02 -1.917438  1.010548 -0.524043  0.531460    one\n",
       "2013-01-03 -0.161310  0.408844  1.596556 -0.588161    two\n",
       "2013-01-04 -1.215632 -0.444588 -0.565106  1.461406  three\n",
       "2013-01-05  0.667230  0.413307  0.717305  0.926584   four\n",
       "2013-01-06  0.665260  1.409767 -0.338998 -0.409506  three"
      ]
     },
     "execution_count": 36,
     "metadata": {},
     "output_type": "execute_result"
    }
   ],
   "source": [
    "df2 = df.copy()\n",
    "df2['E'] = ['one', 'one', 'two', 'three', 'four', 'three']\n",
    "df2"
   ]
  },
  {
   "cell_type": "code",
   "execution_count": 37,
   "metadata": {
    "collapsed": false
   },
   "outputs": [
    {
     "data": {
      "text/html": [
       "<div>\n",
       "<table border=\"1\" class=\"dataframe\">\n",
       "  <thead>\n",
       "    <tr style=\"text-align: right;\">\n",
       "      <th></th>\n",
       "      <th>A</th>\n",
       "      <th>B</th>\n",
       "      <th>C</th>\n",
       "      <th>D</th>\n",
       "      <th>E</th>\n",
       "    </tr>\n",
       "  </thead>\n",
       "  <tbody>\n",
       "    <tr>\n",
       "      <th>2013-01-03</th>\n",
       "      <td>-0.16131</td>\n",
       "      <td>0.408844</td>\n",
       "      <td>1.596556</td>\n",
       "      <td>-0.588161</td>\n",
       "      <td>two</td>\n",
       "    </tr>\n",
       "    <tr>\n",
       "      <th>2013-01-05</th>\n",
       "      <td>0.66723</td>\n",
       "      <td>0.413307</td>\n",
       "      <td>0.717305</td>\n",
       "      <td>0.926584</td>\n",
       "      <td>four</td>\n",
       "    </tr>\n",
       "  </tbody>\n",
       "</table>\n",
       "</div>"
      ],
      "text/plain": [
       "                  A         B         C         D     E\n",
       "2013-01-03 -0.16131  0.408844  1.596556 -0.588161   two\n",
       "2013-01-05  0.66723  0.413307  0.717305  0.926584  four"
      ]
     },
     "execution_count": 37,
     "metadata": {},
     "output_type": "execute_result"
    }
   ],
   "source": [
    "df2[df2['E'].isin(['two', 'four'])]"
   ]
  },
  {
   "cell_type": "code",
   "execution_count": 41,
   "metadata": {
    "collapsed": false
   },
   "outputs": [
    {
     "data": {
      "text/plain": [
       "2013-01-02    1\n",
       "2013-01-03    2\n",
       "2013-01-04    3\n",
       "2013-01-05    4\n",
       "2013-01-06    5\n",
       "2013-01-07    6\n",
       "Freq: D, dtype: int64"
      ]
     },
     "execution_count": 41,
     "metadata": {},
     "output_type": "execute_result"
    }
   ],
   "source": [
    "s1 = pd.Series([1, 2, 3, 4, 5, 6], index=pd.date_range('20130102', periods=6))\n",
    "s1"
   ]
  },
  {
   "cell_type": "code",
   "execution_count": 47,
   "metadata": {
    "collapsed": false
   },
   "outputs": [
    {
     "data": {
      "text/html": [
       "<div>\n",
       "<table border=\"1\" class=\"dataframe\">\n",
       "  <thead>\n",
       "    <tr style=\"text-align: right;\">\n",
       "      <th></th>\n",
       "      <th>A</th>\n",
       "      <th>B</th>\n",
       "      <th>C</th>\n",
       "      <th>D</th>\n",
       "      <th>F</th>\n",
       "    </tr>\n",
       "  </thead>\n",
       "  <tbody>\n",
       "    <tr>\n",
       "      <th>2013-01-01</th>\n",
       "      <td>0.000000</td>\n",
       "      <td>0.000000</td>\n",
       "      <td>-0.344526</td>\n",
       "      <td>5</td>\n",
       "      <td>NaN</td>\n",
       "    </tr>\n",
       "    <tr>\n",
       "      <th>2013-01-02</th>\n",
       "      <td>-1.917438</td>\n",
       "      <td>1.010548</td>\n",
       "      <td>-0.524043</td>\n",
       "      <td>5</td>\n",
       "      <td>1.0</td>\n",
       "    </tr>\n",
       "    <tr>\n",
       "      <th>2013-01-03</th>\n",
       "      <td>-0.161310</td>\n",
       "      <td>0.408844</td>\n",
       "      <td>1.596556</td>\n",
       "      <td>5</td>\n",
       "      <td>2.0</td>\n",
       "    </tr>\n",
       "    <tr>\n",
       "      <th>2013-01-04</th>\n",
       "      <td>-1.215632</td>\n",
       "      <td>-0.444588</td>\n",
       "      <td>-0.565106</td>\n",
       "      <td>5</td>\n",
       "      <td>3.0</td>\n",
       "    </tr>\n",
       "    <tr>\n",
       "      <th>2013-01-05</th>\n",
       "      <td>0.667230</td>\n",
       "      <td>0.413307</td>\n",
       "      <td>0.717305</td>\n",
       "      <td>5</td>\n",
       "      <td>4.0</td>\n",
       "    </tr>\n",
       "    <tr>\n",
       "      <th>2013-01-06</th>\n",
       "      <td>0.665260</td>\n",
       "      <td>1.409767</td>\n",
       "      <td>-0.338998</td>\n",
       "      <td>5</td>\n",
       "      <td>5.0</td>\n",
       "    </tr>\n",
       "  </tbody>\n",
       "</table>\n",
       "</div>"
      ],
      "text/plain": [
       "                   A         B         C  D    F\n",
       "2013-01-01  0.000000  0.000000 -0.344526  5  NaN\n",
       "2013-01-02 -1.917438  1.010548 -0.524043  5  1.0\n",
       "2013-01-03 -0.161310  0.408844  1.596556  5  2.0\n",
       "2013-01-04 -1.215632 -0.444588 -0.565106  5  3.0\n",
       "2013-01-05  0.667230  0.413307  0.717305  5  4.0\n",
       "2013-01-06  0.665260  1.409767 -0.338998  5  5.0"
      ]
     },
     "execution_count": 47,
     "metadata": {},
     "output_type": "execute_result"
    }
   ],
   "source": [
    "df['F'] = s1\n",
    "df.at[dates[0], 'A'] = 0\n",
    "df.iat[0, 1] = 0\n",
    "df.loc[:, 'D'] = np.array([5] * len(df))\n",
    "df"
   ]
  },
  {
   "cell_type": "code",
   "execution_count": 48,
   "metadata": {
    "collapsed": false
   },
   "outputs": [
    {
     "data": {
      "text/html": [
       "<div>\n",
       "<table border=\"1\" class=\"dataframe\">\n",
       "  <thead>\n",
       "    <tr style=\"text-align: right;\">\n",
       "      <th></th>\n",
       "      <th>A</th>\n",
       "      <th>B</th>\n",
       "      <th>C</th>\n",
       "      <th>D</th>\n",
       "      <th>F</th>\n",
       "    </tr>\n",
       "  </thead>\n",
       "  <tbody>\n",
       "    <tr>\n",
       "      <th>2013-01-01</th>\n",
       "      <td>0.000000</td>\n",
       "      <td>0.000000</td>\n",
       "      <td>-0.344526</td>\n",
       "      <td>-5</td>\n",
       "      <td>NaN</td>\n",
       "    </tr>\n",
       "    <tr>\n",
       "      <th>2013-01-02</th>\n",
       "      <td>-1.917438</td>\n",
       "      <td>-1.010548</td>\n",
       "      <td>-0.524043</td>\n",
       "      <td>-5</td>\n",
       "      <td>-1.0</td>\n",
       "    </tr>\n",
       "    <tr>\n",
       "      <th>2013-01-03</th>\n",
       "      <td>-0.161310</td>\n",
       "      <td>-0.408844</td>\n",
       "      <td>-1.596556</td>\n",
       "      <td>-5</td>\n",
       "      <td>-2.0</td>\n",
       "    </tr>\n",
       "    <tr>\n",
       "      <th>2013-01-04</th>\n",
       "      <td>-1.215632</td>\n",
       "      <td>-0.444588</td>\n",
       "      <td>-0.565106</td>\n",
       "      <td>-5</td>\n",
       "      <td>-3.0</td>\n",
       "    </tr>\n",
       "    <tr>\n",
       "      <th>2013-01-05</th>\n",
       "      <td>-0.667230</td>\n",
       "      <td>-0.413307</td>\n",
       "      <td>-0.717305</td>\n",
       "      <td>-5</td>\n",
       "      <td>-4.0</td>\n",
       "    </tr>\n",
       "    <tr>\n",
       "      <th>2013-01-06</th>\n",
       "      <td>-0.665260</td>\n",
       "      <td>-1.409767</td>\n",
       "      <td>-0.338998</td>\n",
       "      <td>-5</td>\n",
       "      <td>-5.0</td>\n",
       "    </tr>\n",
       "  </tbody>\n",
       "</table>\n",
       "</div>"
      ],
      "text/plain": [
       "                   A         B         C  D    F\n",
       "2013-01-01  0.000000  0.000000 -0.344526 -5  NaN\n",
       "2013-01-02 -1.917438 -1.010548 -0.524043 -5 -1.0\n",
       "2013-01-03 -0.161310 -0.408844 -1.596556 -5 -2.0\n",
       "2013-01-04 -1.215632 -0.444588 -0.565106 -5 -3.0\n",
       "2013-01-05 -0.667230 -0.413307 -0.717305 -5 -4.0\n",
       "2013-01-06 -0.665260 -1.409767 -0.338998 -5 -5.0"
      ]
     },
     "execution_count": 48,
     "metadata": {},
     "output_type": "execute_result"
    }
   ],
   "source": [
    "df2 = df.copy()\n",
    "df2[df2 > 0] = -df2\n",
    "df2"
   ]
  },
  {
   "cell_type": "code",
   "execution_count": 50,
   "metadata": {
    "collapsed": false
   },
   "outputs": [
    {
     "data": {
      "text/html": [
       "<div>\n",
       "<table border=\"1\" class=\"dataframe\">\n",
       "  <thead>\n",
       "    <tr style=\"text-align: right;\">\n",
       "      <th></th>\n",
       "      <th>A</th>\n",
       "      <th>B</th>\n",
       "      <th>C</th>\n",
       "      <th>D</th>\n",
       "      <th>F</th>\n",
       "      <th>E</th>\n",
       "    </tr>\n",
       "  </thead>\n",
       "  <tbody>\n",
       "    <tr>\n",
       "      <th>2013-01-01</th>\n",
       "      <td>0.000000</td>\n",
       "      <td>0.000000</td>\n",
       "      <td>-0.344526</td>\n",
       "      <td>5</td>\n",
       "      <td>NaN</td>\n",
       "      <td>1.0</td>\n",
       "    </tr>\n",
       "    <tr>\n",
       "      <th>2013-01-02</th>\n",
       "      <td>-1.917438</td>\n",
       "      <td>1.010548</td>\n",
       "      <td>-0.524043</td>\n",
       "      <td>5</td>\n",
       "      <td>1.0</td>\n",
       "      <td>1.0</td>\n",
       "    </tr>\n",
       "    <tr>\n",
       "      <th>2013-01-03</th>\n",
       "      <td>-0.161310</td>\n",
       "      <td>0.408844</td>\n",
       "      <td>1.596556</td>\n",
       "      <td>5</td>\n",
       "      <td>2.0</td>\n",
       "      <td>NaN</td>\n",
       "    </tr>\n",
       "    <tr>\n",
       "      <th>2013-01-04</th>\n",
       "      <td>-1.215632</td>\n",
       "      <td>-0.444588</td>\n",
       "      <td>-0.565106</td>\n",
       "      <td>5</td>\n",
       "      <td>3.0</td>\n",
       "      <td>NaN</td>\n",
       "    </tr>\n",
       "  </tbody>\n",
       "</table>\n",
       "</div>"
      ],
      "text/plain": [
       "                   A         B         C  D    F    E\n",
       "2013-01-01  0.000000  0.000000 -0.344526  5  NaN  1.0\n",
       "2013-01-02 -1.917438  1.010548 -0.524043  5  1.0  1.0\n",
       "2013-01-03 -0.161310  0.408844  1.596556  5  2.0  NaN\n",
       "2013-01-04 -1.215632 -0.444588 -0.565106  5  3.0  NaN"
      ]
     },
     "execution_count": 50,
     "metadata": {},
     "output_type": "execute_result"
    }
   ],
   "source": [
    "df1 = df.reindex(index=dates[0:4], columns=list(df.columns) + ['E'])\n",
    "df1.loc[dates[0]:dates[1], 'E'] = 1\n",
    "df1"
   ]
  },
  {
   "cell_type": "code",
   "execution_count": 51,
   "metadata": {
    "collapsed": false
   },
   "outputs": [
    {
     "data": {
      "text/html": [
       "<div>\n",
       "<table border=\"1\" class=\"dataframe\">\n",
       "  <thead>\n",
       "    <tr style=\"text-align: right;\">\n",
       "      <th></th>\n",
       "      <th>A</th>\n",
       "      <th>B</th>\n",
       "      <th>C</th>\n",
       "      <th>D</th>\n",
       "      <th>F</th>\n",
       "      <th>E</th>\n",
       "    </tr>\n",
       "  </thead>\n",
       "  <tbody>\n",
       "    <tr>\n",
       "      <th>2013-01-02</th>\n",
       "      <td>-1.917438</td>\n",
       "      <td>1.010548</td>\n",
       "      <td>-0.524043</td>\n",
       "      <td>5</td>\n",
       "      <td>1.0</td>\n",
       "      <td>1.0</td>\n",
       "    </tr>\n",
       "  </tbody>\n",
       "</table>\n",
       "</div>"
      ],
      "text/plain": [
       "                   A         B         C  D    F    E\n",
       "2013-01-02 -1.917438  1.010548 -0.524043  5  1.0  1.0"
      ]
     },
     "execution_count": 51,
     "metadata": {},
     "output_type": "execute_result"
    }
   ],
   "source": [
    "df1.dropna(how='any')"
   ]
  },
  {
   "cell_type": "code",
   "execution_count": 52,
   "metadata": {
    "collapsed": false
   },
   "outputs": [
    {
     "data": {
      "text/html": [
       "<div>\n",
       "<table border=\"1\" class=\"dataframe\">\n",
       "  <thead>\n",
       "    <tr style=\"text-align: right;\">\n",
       "      <th></th>\n",
       "      <th>A</th>\n",
       "      <th>B</th>\n",
       "      <th>C</th>\n",
       "      <th>D</th>\n",
       "      <th>F</th>\n",
       "      <th>E</th>\n",
       "    </tr>\n",
       "  </thead>\n",
       "  <tbody>\n",
       "    <tr>\n",
       "      <th>2013-01-01</th>\n",
       "      <td>0.000000</td>\n",
       "      <td>0.000000</td>\n",
       "      <td>-0.344526</td>\n",
       "      <td>5</td>\n",
       "      <td>5.0</td>\n",
       "      <td>1.0</td>\n",
       "    </tr>\n",
       "    <tr>\n",
       "      <th>2013-01-02</th>\n",
       "      <td>-1.917438</td>\n",
       "      <td>1.010548</td>\n",
       "      <td>-0.524043</td>\n",
       "      <td>5</td>\n",
       "      <td>1.0</td>\n",
       "      <td>1.0</td>\n",
       "    </tr>\n",
       "    <tr>\n",
       "      <th>2013-01-03</th>\n",
       "      <td>-0.161310</td>\n",
       "      <td>0.408844</td>\n",
       "      <td>1.596556</td>\n",
       "      <td>5</td>\n",
       "      <td>2.0</td>\n",
       "      <td>5.0</td>\n",
       "    </tr>\n",
       "    <tr>\n",
       "      <th>2013-01-04</th>\n",
       "      <td>-1.215632</td>\n",
       "      <td>-0.444588</td>\n",
       "      <td>-0.565106</td>\n",
       "      <td>5</td>\n",
       "      <td>3.0</td>\n",
       "      <td>5.0</td>\n",
       "    </tr>\n",
       "  </tbody>\n",
       "</table>\n",
       "</div>"
      ],
      "text/plain": [
       "                   A         B         C  D    F    E\n",
       "2013-01-01  0.000000  0.000000 -0.344526  5  5.0  1.0\n",
       "2013-01-02 -1.917438  1.010548 -0.524043  5  1.0  1.0\n",
       "2013-01-03 -0.161310  0.408844  1.596556  5  2.0  5.0\n",
       "2013-01-04 -1.215632 -0.444588 -0.565106  5  3.0  5.0"
      ]
     },
     "execution_count": 52,
     "metadata": {},
     "output_type": "execute_result"
    }
   ],
   "source": [
    "df1.fillna(value=5)"
   ]
  },
  {
   "cell_type": "code",
   "execution_count": 53,
   "metadata": {
    "collapsed": false
   },
   "outputs": [
    {
     "data": {
      "text/html": [
       "<div>\n",
       "<table border=\"1\" class=\"dataframe\">\n",
       "  <thead>\n",
       "    <tr style=\"text-align: right;\">\n",
       "      <th></th>\n",
       "      <th>A</th>\n",
       "      <th>B</th>\n",
       "      <th>C</th>\n",
       "      <th>D</th>\n",
       "      <th>F</th>\n",
       "      <th>E</th>\n",
       "    </tr>\n",
       "  </thead>\n",
       "  <tbody>\n",
       "    <tr>\n",
       "      <th>2013-01-01</th>\n",
       "      <td>False</td>\n",
       "      <td>False</td>\n",
       "      <td>False</td>\n",
       "      <td>False</td>\n",
       "      <td>True</td>\n",
       "      <td>False</td>\n",
       "    </tr>\n",
       "    <tr>\n",
       "      <th>2013-01-02</th>\n",
       "      <td>False</td>\n",
       "      <td>False</td>\n",
       "      <td>False</td>\n",
       "      <td>False</td>\n",
       "      <td>False</td>\n",
       "      <td>False</td>\n",
       "    </tr>\n",
       "    <tr>\n",
       "      <th>2013-01-03</th>\n",
       "      <td>False</td>\n",
       "      <td>False</td>\n",
       "      <td>False</td>\n",
       "      <td>False</td>\n",
       "      <td>False</td>\n",
       "      <td>True</td>\n",
       "    </tr>\n",
       "    <tr>\n",
       "      <th>2013-01-04</th>\n",
       "      <td>False</td>\n",
       "      <td>False</td>\n",
       "      <td>False</td>\n",
       "      <td>False</td>\n",
       "      <td>False</td>\n",
       "      <td>True</td>\n",
       "    </tr>\n",
       "  </tbody>\n",
       "</table>\n",
       "</div>"
      ],
      "text/plain": [
       "                A      B      C      D      F      E\n",
       "2013-01-01  False  False  False  False   True  False\n",
       "2013-01-02  False  False  False  False  False  False\n",
       "2013-01-03  False  False  False  False  False   True\n",
       "2013-01-04  False  False  False  False  False   True"
      ]
     },
     "execution_count": 53,
     "metadata": {},
     "output_type": "execute_result"
    }
   ],
   "source": [
    "pd.isnull(df1)"
   ]
  },
  {
   "cell_type": "markdown",
   "metadata": {},
   "source": [
    "# 数据处理(下)"
   ]
  },
  {
   "cell_type": "code",
   "execution_count": 55,
   "metadata": {
    "collapsed": false
   },
   "outputs": [
    {
     "data": {
      "text/html": [
       "<div>\n",
       "<table border=\"1\" class=\"dataframe\">\n",
       "  <thead>\n",
       "    <tr style=\"text-align: right;\">\n",
       "      <th></th>\n",
       "      <th>A</th>\n",
       "      <th>B</th>\n",
       "      <th>C</th>\n",
       "      <th>D</th>\n",
       "      <th>F</th>\n",
       "    </tr>\n",
       "  </thead>\n",
       "  <tbody>\n",
       "    <tr>\n",
       "      <th>2013-01-01</th>\n",
       "      <td>0.000000</td>\n",
       "      <td>0.000000</td>\n",
       "      <td>-0.344526</td>\n",
       "      <td>5</td>\n",
       "      <td>NaN</td>\n",
       "    </tr>\n",
       "    <tr>\n",
       "      <th>2013-01-02</th>\n",
       "      <td>-1.917438</td>\n",
       "      <td>1.010548</td>\n",
       "      <td>-0.524043</td>\n",
       "      <td>5</td>\n",
       "      <td>1.0</td>\n",
       "    </tr>\n",
       "    <tr>\n",
       "      <th>2013-01-03</th>\n",
       "      <td>-0.161310</td>\n",
       "      <td>0.408844</td>\n",
       "      <td>1.596556</td>\n",
       "      <td>5</td>\n",
       "      <td>2.0</td>\n",
       "    </tr>\n",
       "    <tr>\n",
       "      <th>2013-01-04</th>\n",
       "      <td>-1.215632</td>\n",
       "      <td>-0.444588</td>\n",
       "      <td>-0.565106</td>\n",
       "      <td>5</td>\n",
       "      <td>3.0</td>\n",
       "    </tr>\n",
       "    <tr>\n",
       "      <th>2013-01-05</th>\n",
       "      <td>0.667230</td>\n",
       "      <td>0.413307</td>\n",
       "      <td>0.717305</td>\n",
       "      <td>5</td>\n",
       "      <td>4.0</td>\n",
       "    </tr>\n",
       "    <tr>\n",
       "      <th>2013-01-06</th>\n",
       "      <td>0.665260</td>\n",
       "      <td>1.409767</td>\n",
       "      <td>-0.338998</td>\n",
       "      <td>5</td>\n",
       "      <td>5.0</td>\n",
       "    </tr>\n",
       "  </tbody>\n",
       "</table>\n",
       "</div>"
      ],
      "text/plain": [
       "                   A         B         C  D    F\n",
       "2013-01-01  0.000000  0.000000 -0.344526  5  NaN\n",
       "2013-01-02 -1.917438  1.010548 -0.524043  5  1.0\n",
       "2013-01-03 -0.161310  0.408844  1.596556  5  2.0\n",
       "2013-01-04 -1.215632 -0.444588 -0.565106  5  3.0\n",
       "2013-01-05  0.667230  0.413307  0.717305  5  4.0\n",
       "2013-01-06  0.665260  1.409767 -0.338998  5  5.0"
      ]
     },
     "execution_count": 55,
     "metadata": {},
     "output_type": "execute_result"
    }
   ],
   "source": [
    "df"
   ]
  },
  {
   "cell_type": "code",
   "execution_count": 54,
   "metadata": {
    "collapsed": false
   },
   "outputs": [
    {
     "data": {
      "text/plain": [
       "A   -0.326981\n",
       "B    0.466313\n",
       "C    0.090198\n",
       "D    5.000000\n",
       "F    3.000000\n",
       "dtype: float64"
      ]
     },
     "execution_count": 54,
     "metadata": {},
     "output_type": "execute_result"
    }
   ],
   "source": [
    "df.mean()"
   ]
  },
  {
   "cell_type": "code",
   "execution_count": 56,
   "metadata": {
    "collapsed": false
   },
   "outputs": [
    {
     "data": {
      "text/plain": [
       "2013-01-01    1.163869\n",
       "2013-01-02    0.913813\n",
       "2013-01-03    1.768818\n",
       "2013-01-04    1.154935\n",
       "2013-01-05    2.159569\n",
       "2013-01-06    2.347206\n",
       "Freq: D, dtype: float64"
      ]
     },
     "execution_count": 56,
     "metadata": {},
     "output_type": "execute_result"
    }
   ],
   "source": [
    "df.mean(1)"
   ]
  },
  {
   "cell_type": "code",
   "execution_count": 57,
   "metadata": {
    "collapsed": false
   },
   "outputs": [
    {
     "data": {
      "text/plain": [
       "2013-01-01    NaN\n",
       "2013-01-02    NaN\n",
       "2013-01-03    1.0\n",
       "2013-01-04    3.0\n",
       "2013-01-05    5.0\n",
       "2013-01-06    NaN\n",
       "Freq: D, dtype: float64"
      ]
     },
     "execution_count": 57,
     "metadata": {},
     "output_type": "execute_result"
    }
   ],
   "source": [
    "s = pd.Series([1, 3, 5, np.nan, 6, 8], index=dates).shift(2)\n",
    "s"
   ]
  },
  {
   "cell_type": "code",
   "execution_count": 58,
   "metadata": {
    "collapsed": false
   },
   "outputs": [
    {
     "data": {
      "text/html": [
       "<div>\n",
       "<table border=\"1\" class=\"dataframe\">\n",
       "  <thead>\n",
       "    <tr style=\"text-align: right;\">\n",
       "      <th></th>\n",
       "      <th>A</th>\n",
       "      <th>B</th>\n",
       "      <th>C</th>\n",
       "      <th>D</th>\n",
       "      <th>F</th>\n",
       "    </tr>\n",
       "  </thead>\n",
       "  <tbody>\n",
       "    <tr>\n",
       "      <th>2013-01-01</th>\n",
       "      <td>NaN</td>\n",
       "      <td>NaN</td>\n",
       "      <td>NaN</td>\n",
       "      <td>NaN</td>\n",
       "      <td>NaN</td>\n",
       "    </tr>\n",
       "    <tr>\n",
       "      <th>2013-01-02</th>\n",
       "      <td>NaN</td>\n",
       "      <td>NaN</td>\n",
       "      <td>NaN</td>\n",
       "      <td>NaN</td>\n",
       "      <td>NaN</td>\n",
       "    </tr>\n",
       "    <tr>\n",
       "      <th>2013-01-03</th>\n",
       "      <td>-1.161310</td>\n",
       "      <td>-0.591156</td>\n",
       "      <td>0.596556</td>\n",
       "      <td>4.0</td>\n",
       "      <td>1.0</td>\n",
       "    </tr>\n",
       "    <tr>\n",
       "      <th>2013-01-04</th>\n",
       "      <td>-4.215632</td>\n",
       "      <td>-3.444588</td>\n",
       "      <td>-3.565106</td>\n",
       "      <td>2.0</td>\n",
       "      <td>0.0</td>\n",
       "    </tr>\n",
       "    <tr>\n",
       "      <th>2013-01-05</th>\n",
       "      <td>-4.332770</td>\n",
       "      <td>-4.586693</td>\n",
       "      <td>-4.282695</td>\n",
       "      <td>0.0</td>\n",
       "      <td>-1.0</td>\n",
       "    </tr>\n",
       "    <tr>\n",
       "      <th>2013-01-06</th>\n",
       "      <td>NaN</td>\n",
       "      <td>NaN</td>\n",
       "      <td>NaN</td>\n",
       "      <td>NaN</td>\n",
       "      <td>NaN</td>\n",
       "    </tr>\n",
       "  </tbody>\n",
       "</table>\n",
       "</div>"
      ],
      "text/plain": [
       "                   A         B         C    D    F\n",
       "2013-01-01       NaN       NaN       NaN  NaN  NaN\n",
       "2013-01-02       NaN       NaN       NaN  NaN  NaN\n",
       "2013-01-03 -1.161310 -0.591156  0.596556  4.0  1.0\n",
       "2013-01-04 -4.215632 -3.444588 -3.565106  2.0  0.0\n",
       "2013-01-05 -4.332770 -4.586693 -4.282695  0.0 -1.0\n",
       "2013-01-06       NaN       NaN       NaN  NaN  NaN"
      ]
     },
     "execution_count": 58,
     "metadata": {},
     "output_type": "execute_result"
    }
   ],
   "source": [
    "df.sub(s, axis='index')"
   ]
  },
  {
   "cell_type": "code",
   "execution_count": 59,
   "metadata": {
    "collapsed": false
   },
   "outputs": [
    {
     "data": {
      "text/html": [
       "<div>\n",
       "<table border=\"1\" class=\"dataframe\">\n",
       "  <thead>\n",
       "    <tr style=\"text-align: right;\">\n",
       "      <th></th>\n",
       "      <th>A</th>\n",
       "      <th>B</th>\n",
       "      <th>C</th>\n",
       "      <th>D</th>\n",
       "      <th>F</th>\n",
       "    </tr>\n",
       "  </thead>\n",
       "  <tbody>\n",
       "    <tr>\n",
       "      <th>2013-01-01</th>\n",
       "      <td>0.000000</td>\n",
       "      <td>0.000000</td>\n",
       "      <td>-0.344526</td>\n",
       "      <td>5</td>\n",
       "      <td>NaN</td>\n",
       "    </tr>\n",
       "    <tr>\n",
       "      <th>2013-01-02</th>\n",
       "      <td>-1.917438</td>\n",
       "      <td>1.010548</td>\n",
       "      <td>-0.868569</td>\n",
       "      <td>10</td>\n",
       "      <td>1.0</td>\n",
       "    </tr>\n",
       "    <tr>\n",
       "      <th>2013-01-03</th>\n",
       "      <td>-2.078747</td>\n",
       "      <td>1.419392</td>\n",
       "      <td>0.727987</td>\n",
       "      <td>15</td>\n",
       "      <td>3.0</td>\n",
       "    </tr>\n",
       "    <tr>\n",
       "      <th>2013-01-04</th>\n",
       "      <td>-3.294379</td>\n",
       "      <td>0.974804</td>\n",
       "      <td>0.162881</td>\n",
       "      <td>20</td>\n",
       "      <td>6.0</td>\n",
       "    </tr>\n",
       "    <tr>\n",
       "      <th>2013-01-05</th>\n",
       "      <td>-2.627149</td>\n",
       "      <td>1.388111</td>\n",
       "      <td>0.880186</td>\n",
       "      <td>25</td>\n",
       "      <td>10.0</td>\n",
       "    </tr>\n",
       "    <tr>\n",
       "      <th>2013-01-06</th>\n",
       "      <td>-1.961889</td>\n",
       "      <td>2.797878</td>\n",
       "      <td>0.541188</td>\n",
       "      <td>30</td>\n",
       "      <td>15.0</td>\n",
       "    </tr>\n",
       "  </tbody>\n",
       "</table>\n",
       "</div>"
      ],
      "text/plain": [
       "                   A         B         C   D     F\n",
       "2013-01-01  0.000000  0.000000 -0.344526   5   NaN\n",
       "2013-01-02 -1.917438  1.010548 -0.868569  10   1.0\n",
       "2013-01-03 -2.078747  1.419392  0.727987  15   3.0\n",
       "2013-01-04 -3.294379  0.974804  0.162881  20   6.0\n",
       "2013-01-05 -2.627149  1.388111  0.880186  25  10.0\n",
       "2013-01-06 -1.961889  2.797878  0.541188  30  15.0"
      ]
     },
     "execution_count": 59,
     "metadata": {},
     "output_type": "execute_result"
    }
   ],
   "source": [
    "df.apply(np.cumsum)"
   ]
  },
  {
   "cell_type": "code",
   "execution_count": 60,
   "metadata": {
    "collapsed": false
   },
   "outputs": [
    {
     "data": {
      "text/plain": [
       "A    2.584668\n",
       "B    1.854355\n",
       "C    2.161662\n",
       "D    0.000000\n",
       "F    4.000000\n",
       "dtype: float64"
      ]
     },
     "execution_count": 60,
     "metadata": {},
     "output_type": "execute_result"
    }
   ],
   "source": [
    "df.apply(lambda x: x.max() -x.min())"
   ]
  },
  {
   "cell_type": "code",
   "execution_count": 61,
   "metadata": {
    "collapsed": false
   },
   "outputs": [
    {
     "data": {
      "text/plain": [
       "0    6\n",
       "1    4\n",
       "2    2\n",
       "3    4\n",
       "4    3\n",
       "5    1\n",
       "6    2\n",
       "7    4\n",
       "8    1\n",
       "9    0\n",
       "dtype: int64"
      ]
     },
     "execution_count": 61,
     "metadata": {},
     "output_type": "execute_result"
    }
   ],
   "source": [
    "s = pd.Series(np.random.randint(0, 7, size=10))\n",
    "s"
   ]
  },
  {
   "cell_type": "code",
   "execution_count": 66,
   "metadata": {
    "collapsed": false
   },
   "outputs": [
    {
     "data": {
      "text/plain": [
       "4    3\n",
       "2    2\n",
       "1    2\n",
       "6    1\n",
       "3    1\n",
       "0    1\n",
       "dtype: int64"
      ]
     },
     "execution_count": 66,
     "metadata": {},
     "output_type": "execute_result"
    }
   ],
   "source": [
    "s.value_counts()"
   ]
  },
  {
   "cell_type": "code",
   "execution_count": 67,
   "metadata": {
    "collapsed": false
   },
   "outputs": [
    {
     "data": {
      "text/plain": [
       "0       a\n",
       "1       b\n",
       "2       c\n",
       "3    aaba\n",
       "4    baca\n",
       "5     NaN\n",
       "6    caba\n",
       "7     dog\n",
       "8     cat\n",
       "dtype: object"
      ]
     },
     "execution_count": 67,
     "metadata": {},
     "output_type": "execute_result"
    }
   ],
   "source": [
    "s = pd.Series(['A', 'B', 'C', 'Aaba', 'Baca', np.nan, 'CABA', 'dog', 'cat'])\n",
    "s.str.lower()"
   ]
  },
  {
   "cell_type": "code",
   "execution_count": 68,
   "metadata": {
    "collapsed": false
   },
   "outputs": [
    {
     "data": {
      "text/html": [
       "<div>\n",
       "<table border=\"1\" class=\"dataframe\">\n",
       "  <thead>\n",
       "    <tr style=\"text-align: right;\">\n",
       "      <th></th>\n",
       "      <th>0</th>\n",
       "      <th>1</th>\n",
       "      <th>2</th>\n",
       "      <th>3</th>\n",
       "    </tr>\n",
       "  </thead>\n",
       "  <tbody>\n",
       "    <tr>\n",
       "      <th>0</th>\n",
       "      <td>0.424793</td>\n",
       "      <td>0.287690</td>\n",
       "      <td>-0.782443</td>\n",
       "      <td>0.977806</td>\n",
       "    </tr>\n",
       "    <tr>\n",
       "      <th>1</th>\n",
       "      <td>0.722170</td>\n",
       "      <td>0.728828</td>\n",
       "      <td>-0.482139</td>\n",
       "      <td>0.274797</td>\n",
       "    </tr>\n",
       "    <tr>\n",
       "      <th>2</th>\n",
       "      <td>0.173310</td>\n",
       "      <td>-0.225553</td>\n",
       "      <td>-0.729328</td>\n",
       "      <td>3.140951</td>\n",
       "    </tr>\n",
       "    <tr>\n",
       "      <th>3</th>\n",
       "      <td>1.902321</td>\n",
       "      <td>-0.520196</td>\n",
       "      <td>-0.430466</td>\n",
       "      <td>-0.618378</td>\n",
       "    </tr>\n",
       "    <tr>\n",
       "      <th>4</th>\n",
       "      <td>0.804690</td>\n",
       "      <td>0.662111</td>\n",
       "      <td>0.508419</td>\n",
       "      <td>0.682660</td>\n",
       "    </tr>\n",
       "    <tr>\n",
       "      <th>5</th>\n",
       "      <td>-0.486881</td>\n",
       "      <td>-0.294770</td>\n",
       "      <td>0.852034</td>\n",
       "      <td>0.746677</td>\n",
       "    </tr>\n",
       "    <tr>\n",
       "      <th>6</th>\n",
       "      <td>0.224030</td>\n",
       "      <td>-1.700646</td>\n",
       "      <td>0.384450</td>\n",
       "      <td>0.859665</td>\n",
       "    </tr>\n",
       "    <tr>\n",
       "      <th>7</th>\n",
       "      <td>-0.788270</td>\n",
       "      <td>-1.920591</td>\n",
       "      <td>-2.019518</td>\n",
       "      <td>-1.079090</td>\n",
       "    </tr>\n",
       "    <tr>\n",
       "      <th>8</th>\n",
       "      <td>1.202149</td>\n",
       "      <td>2.028177</td>\n",
       "      <td>0.118825</td>\n",
       "      <td>-0.611458</td>\n",
       "    </tr>\n",
       "    <tr>\n",
       "      <th>9</th>\n",
       "      <td>0.671907</td>\n",
       "      <td>-1.025868</td>\n",
       "      <td>0.938836</td>\n",
       "      <td>-0.752839</td>\n",
       "    </tr>\n",
       "  </tbody>\n",
       "</table>\n",
       "</div>"
      ],
      "text/plain": [
       "          0         1         2         3\n",
       "0  0.424793  0.287690 -0.782443  0.977806\n",
       "1  0.722170  0.728828 -0.482139  0.274797\n",
       "2  0.173310 -0.225553 -0.729328  3.140951\n",
       "3  1.902321 -0.520196 -0.430466 -0.618378\n",
       "4  0.804690  0.662111  0.508419  0.682660\n",
       "5 -0.486881 -0.294770  0.852034  0.746677\n",
       "6  0.224030 -1.700646  0.384450  0.859665\n",
       "7 -0.788270 -1.920591 -2.019518 -1.079090\n",
       "8  1.202149  2.028177  0.118825 -0.611458\n",
       "9  0.671907 -1.025868  0.938836 -0.752839"
      ]
     },
     "execution_count": 68,
     "metadata": {},
     "output_type": "execute_result"
    }
   ],
   "source": [
    "df = pd.DataFrame(np.random.randn(10,4))\n",
    "df"
   ]
  },
  {
   "cell_type": "code",
   "execution_count": 69,
   "metadata": {
    "collapsed": false
   },
   "outputs": [
    {
     "data": {
      "text/html": [
       "<div>\n",
       "<table border=\"1\" class=\"dataframe\">\n",
       "  <thead>\n",
       "    <tr style=\"text-align: right;\">\n",
       "      <th></th>\n",
       "      <th>0</th>\n",
       "      <th>1</th>\n",
       "      <th>2</th>\n",
       "      <th>3</th>\n",
       "    </tr>\n",
       "  </thead>\n",
       "  <tbody>\n",
       "    <tr>\n",
       "      <th>0</th>\n",
       "      <td>0.424793</td>\n",
       "      <td>0.287690</td>\n",
       "      <td>-0.782443</td>\n",
       "      <td>0.977806</td>\n",
       "    </tr>\n",
       "    <tr>\n",
       "      <th>1</th>\n",
       "      <td>0.722170</td>\n",
       "      <td>0.728828</td>\n",
       "      <td>-0.482139</td>\n",
       "      <td>0.274797</td>\n",
       "    </tr>\n",
       "    <tr>\n",
       "      <th>2</th>\n",
       "      <td>0.173310</td>\n",
       "      <td>-0.225553</td>\n",
       "      <td>-0.729328</td>\n",
       "      <td>3.140951</td>\n",
       "    </tr>\n",
       "    <tr>\n",
       "      <th>3</th>\n",
       "      <td>1.902321</td>\n",
       "      <td>-0.520196</td>\n",
       "      <td>-0.430466</td>\n",
       "      <td>-0.618378</td>\n",
       "    </tr>\n",
       "    <tr>\n",
       "      <th>4</th>\n",
       "      <td>0.804690</td>\n",
       "      <td>0.662111</td>\n",
       "      <td>0.508419</td>\n",
       "      <td>0.682660</td>\n",
       "    </tr>\n",
       "    <tr>\n",
       "      <th>5</th>\n",
       "      <td>-0.486881</td>\n",
       "      <td>-0.294770</td>\n",
       "      <td>0.852034</td>\n",
       "      <td>0.746677</td>\n",
       "    </tr>\n",
       "    <tr>\n",
       "      <th>6</th>\n",
       "      <td>0.224030</td>\n",
       "      <td>-1.700646</td>\n",
       "      <td>0.384450</td>\n",
       "      <td>0.859665</td>\n",
       "    </tr>\n",
       "    <tr>\n",
       "      <th>7</th>\n",
       "      <td>-0.788270</td>\n",
       "      <td>-1.920591</td>\n",
       "      <td>-2.019518</td>\n",
       "      <td>-1.079090</td>\n",
       "    </tr>\n",
       "    <tr>\n",
       "      <th>8</th>\n",
       "      <td>1.202149</td>\n",
       "      <td>2.028177</td>\n",
       "      <td>0.118825</td>\n",
       "      <td>-0.611458</td>\n",
       "    </tr>\n",
       "    <tr>\n",
       "      <th>9</th>\n",
       "      <td>0.671907</td>\n",
       "      <td>-1.025868</td>\n",
       "      <td>0.938836</td>\n",
       "      <td>-0.752839</td>\n",
       "    </tr>\n",
       "  </tbody>\n",
       "</table>\n",
       "</div>"
      ],
      "text/plain": [
       "          0         1         2         3\n",
       "0  0.424793  0.287690 -0.782443  0.977806\n",
       "1  0.722170  0.728828 -0.482139  0.274797\n",
       "2  0.173310 -0.225553 -0.729328  3.140951\n",
       "3  1.902321 -0.520196 -0.430466 -0.618378\n",
       "4  0.804690  0.662111  0.508419  0.682660\n",
       "5 -0.486881 -0.294770  0.852034  0.746677\n",
       "6  0.224030 -1.700646  0.384450  0.859665\n",
       "7 -0.788270 -1.920591 -2.019518 -1.079090\n",
       "8  1.202149  2.028177  0.118825 -0.611458\n",
       "9  0.671907 -1.025868  0.938836 -0.752839"
      ]
     },
     "execution_count": 69,
     "metadata": {},
     "output_type": "execute_result"
    }
   ],
   "source": [
    "pieces = [df[:3], df[3:7], df[7:]]\n",
    "pd.concat(pieces)"
   ]
  },
  {
   "cell_type": "code",
   "execution_count": 70,
   "metadata": {
    "collapsed": true
   },
   "outputs": [],
   "source": [
    "left = pd.DataFrame({'key': ['foo', 'foo'], 'lval': [1, 2]})\n",
    "right = pd.DataFrame({'key': ['foo', 'foo'], 'lval': [4, 5]})"
   ]
  },
  {
   "cell_type": "code",
   "execution_count": 71,
   "metadata": {
    "collapsed": false
   },
   "outputs": [
    {
     "data": {
      "text/html": [
       "<div>\n",
       "<table border=\"1\" class=\"dataframe\">\n",
       "  <thead>\n",
       "    <tr style=\"text-align: right;\">\n",
       "      <th></th>\n",
       "      <th>key</th>\n",
       "      <th>lval</th>\n",
       "    </tr>\n",
       "  </thead>\n",
       "  <tbody>\n",
       "    <tr>\n",
       "      <th>0</th>\n",
       "      <td>foo</td>\n",
       "      <td>1</td>\n",
       "    </tr>\n",
       "    <tr>\n",
       "      <th>1</th>\n",
       "      <td>foo</td>\n",
       "      <td>2</td>\n",
       "    </tr>\n",
       "  </tbody>\n",
       "</table>\n",
       "</div>"
      ],
      "text/plain": [
       "   key  lval\n",
       "0  foo     1\n",
       "1  foo     2"
      ]
     },
     "execution_count": 71,
     "metadata": {},
     "output_type": "execute_result"
    }
   ],
   "source": [
    "left"
   ]
  },
  {
   "cell_type": "code",
   "execution_count": 72,
   "metadata": {
    "collapsed": false
   },
   "outputs": [
    {
     "data": {
      "text/html": [
       "<div>\n",
       "<table border=\"1\" class=\"dataframe\">\n",
       "  <thead>\n",
       "    <tr style=\"text-align: right;\">\n",
       "      <th></th>\n",
       "      <th>key</th>\n",
       "      <th>lval</th>\n",
       "    </tr>\n",
       "  </thead>\n",
       "  <tbody>\n",
       "    <tr>\n",
       "      <th>0</th>\n",
       "      <td>foo</td>\n",
       "      <td>4</td>\n",
       "    </tr>\n",
       "    <tr>\n",
       "      <th>1</th>\n",
       "      <td>foo</td>\n",
       "      <td>5</td>\n",
       "    </tr>\n",
       "  </tbody>\n",
       "</table>\n",
       "</div>"
      ],
      "text/plain": [
       "   key  lval\n",
       "0  foo     4\n",
       "1  foo     5"
      ]
     },
     "execution_count": 72,
     "metadata": {},
     "output_type": "execute_result"
    }
   ],
   "source": [
    "right"
   ]
  },
  {
   "cell_type": "code",
   "execution_count": 73,
   "metadata": {
    "collapsed": false
   },
   "outputs": [
    {
     "data": {
      "text/html": [
       "<div>\n",
       "<table border=\"1\" class=\"dataframe\">\n",
       "  <thead>\n",
       "    <tr style=\"text-align: right;\">\n",
       "      <th></th>\n",
       "      <th>key</th>\n",
       "      <th>lval_x</th>\n",
       "      <th>lval_y</th>\n",
       "    </tr>\n",
       "  </thead>\n",
       "  <tbody>\n",
       "    <tr>\n",
       "      <th>0</th>\n",
       "      <td>foo</td>\n",
       "      <td>1</td>\n",
       "      <td>4</td>\n",
       "    </tr>\n",
       "    <tr>\n",
       "      <th>1</th>\n",
       "      <td>foo</td>\n",
       "      <td>1</td>\n",
       "      <td>5</td>\n",
       "    </tr>\n",
       "    <tr>\n",
       "      <th>2</th>\n",
       "      <td>foo</td>\n",
       "      <td>2</td>\n",
       "      <td>4</td>\n",
       "    </tr>\n",
       "    <tr>\n",
       "      <th>3</th>\n",
       "      <td>foo</td>\n",
       "      <td>2</td>\n",
       "      <td>5</td>\n",
       "    </tr>\n",
       "  </tbody>\n",
       "</table>\n",
       "</div>"
      ],
      "text/plain": [
       "   key  lval_x  lval_y\n",
       "0  foo       1       4\n",
       "1  foo       1       5\n",
       "2  foo       2       4\n",
       "3  foo       2       5"
      ]
     },
     "execution_count": 73,
     "metadata": {},
     "output_type": "execute_result"
    }
   ],
   "source": [
    "pd.merge(left, right, on='key')"
   ]
  },
  {
   "cell_type": "code",
   "execution_count": 74,
   "metadata": {
    "collapsed": false
   },
   "outputs": [
    {
     "data": {
      "text/html": [
       "<div>\n",
       "<table border=\"1\" class=\"dataframe\">\n",
       "  <thead>\n",
       "    <tr style=\"text-align: right;\">\n",
       "      <th></th>\n",
       "      <th>A</th>\n",
       "      <th>B</th>\n",
       "      <th>C</th>\n",
       "      <th>D</th>\n",
       "    </tr>\n",
       "  </thead>\n",
       "  <tbody>\n",
       "    <tr>\n",
       "      <th>0</th>\n",
       "      <td>-0.119601</td>\n",
       "      <td>0.366739</td>\n",
       "      <td>0.097301</td>\n",
       "      <td>1.444148</td>\n",
       "    </tr>\n",
       "    <tr>\n",
       "      <th>1</th>\n",
       "      <td>0.039576</td>\n",
       "      <td>-0.644820</td>\n",
       "      <td>-1.081948</td>\n",
       "      <td>0.985601</td>\n",
       "    </tr>\n",
       "    <tr>\n",
       "      <th>2</th>\n",
       "      <td>-1.455963</td>\n",
       "      <td>0.254017</td>\n",
       "      <td>0.645178</td>\n",
       "      <td>-0.839419</td>\n",
       "    </tr>\n",
       "    <tr>\n",
       "      <th>3</th>\n",
       "      <td>0.190508</td>\n",
       "      <td>1.295388</td>\n",
       "      <td>0.171860</td>\n",
       "      <td>-0.309461</td>\n",
       "    </tr>\n",
       "    <tr>\n",
       "      <th>4</th>\n",
       "      <td>-0.800867</td>\n",
       "      <td>1.419327</td>\n",
       "      <td>0.798924</td>\n",
       "      <td>0.640834</td>\n",
       "    </tr>\n",
       "    <tr>\n",
       "      <th>5</th>\n",
       "      <td>0.930324</td>\n",
       "      <td>0.427597</td>\n",
       "      <td>-1.101573</td>\n",
       "      <td>-0.534165</td>\n",
       "    </tr>\n",
       "    <tr>\n",
       "      <th>6</th>\n",
       "      <td>1.022200</td>\n",
       "      <td>-0.190328</td>\n",
       "      <td>1.355074</td>\n",
       "      <td>0.197339</td>\n",
       "    </tr>\n",
       "    <tr>\n",
       "      <th>7</th>\n",
       "      <td>-0.216576</td>\n",
       "      <td>0.454335</td>\n",
       "      <td>-0.425840</td>\n",
       "      <td>-0.436705</td>\n",
       "    </tr>\n",
       "  </tbody>\n",
       "</table>\n",
       "</div>"
      ],
      "text/plain": [
       "          A         B         C         D\n",
       "0 -0.119601  0.366739  0.097301  1.444148\n",
       "1  0.039576 -0.644820 -1.081948  0.985601\n",
       "2 -1.455963  0.254017  0.645178 -0.839419\n",
       "3  0.190508  1.295388  0.171860 -0.309461\n",
       "4 -0.800867  1.419327  0.798924  0.640834\n",
       "5  0.930324  0.427597 -1.101573 -0.534165\n",
       "6  1.022200 -0.190328  1.355074  0.197339\n",
       "7 -0.216576  0.454335 -0.425840 -0.436705"
      ]
     },
     "execution_count": 74,
     "metadata": {},
     "output_type": "execute_result"
    }
   ],
   "source": [
    "df = pd.DataFrame(np.random.randn(8,4), columns=['A', 'B', 'C', 'D'])\n",
    "df"
   ]
  },
  {
   "cell_type": "code",
   "execution_count": 75,
   "metadata": {
    "collapsed": false
   },
   "outputs": [
    {
     "data": {
      "text/html": [
       "<div>\n",
       "<table border=\"1\" class=\"dataframe\">\n",
       "  <thead>\n",
       "    <tr style=\"text-align: right;\">\n",
       "      <th></th>\n",
       "      <th>A</th>\n",
       "      <th>B</th>\n",
       "      <th>C</th>\n",
       "      <th>D</th>\n",
       "    </tr>\n",
       "  </thead>\n",
       "  <tbody>\n",
       "    <tr>\n",
       "      <th>0</th>\n",
       "      <td>-0.119601</td>\n",
       "      <td>0.366739</td>\n",
       "      <td>0.097301</td>\n",
       "      <td>1.444148</td>\n",
       "    </tr>\n",
       "    <tr>\n",
       "      <th>1</th>\n",
       "      <td>0.039576</td>\n",
       "      <td>-0.644820</td>\n",
       "      <td>-1.081948</td>\n",
       "      <td>0.985601</td>\n",
       "    </tr>\n",
       "    <tr>\n",
       "      <th>2</th>\n",
       "      <td>-1.455963</td>\n",
       "      <td>0.254017</td>\n",
       "      <td>0.645178</td>\n",
       "      <td>-0.839419</td>\n",
       "    </tr>\n",
       "    <tr>\n",
       "      <th>3</th>\n",
       "      <td>0.190508</td>\n",
       "      <td>1.295388</td>\n",
       "      <td>0.171860</td>\n",
       "      <td>-0.309461</td>\n",
       "    </tr>\n",
       "    <tr>\n",
       "      <th>4</th>\n",
       "      <td>-0.800867</td>\n",
       "      <td>1.419327</td>\n",
       "      <td>0.798924</td>\n",
       "      <td>0.640834</td>\n",
       "    </tr>\n",
       "    <tr>\n",
       "      <th>5</th>\n",
       "      <td>0.930324</td>\n",
       "      <td>0.427597</td>\n",
       "      <td>-1.101573</td>\n",
       "      <td>-0.534165</td>\n",
       "    </tr>\n",
       "    <tr>\n",
       "      <th>6</th>\n",
       "      <td>1.022200</td>\n",
       "      <td>-0.190328</td>\n",
       "      <td>1.355074</td>\n",
       "      <td>0.197339</td>\n",
       "    </tr>\n",
       "    <tr>\n",
       "      <th>7</th>\n",
       "      <td>-0.216576</td>\n",
       "      <td>0.454335</td>\n",
       "      <td>-0.425840</td>\n",
       "      <td>-0.436705</td>\n",
       "    </tr>\n",
       "    <tr>\n",
       "      <th>8</th>\n",
       "      <td>0.190508</td>\n",
       "      <td>1.295388</td>\n",
       "      <td>0.171860</td>\n",
       "      <td>-0.309461</td>\n",
       "    </tr>\n",
       "  </tbody>\n",
       "</table>\n",
       "</div>"
      ],
      "text/plain": [
       "          A         B         C         D\n",
       "0 -0.119601  0.366739  0.097301  1.444148\n",
       "1  0.039576 -0.644820 -1.081948  0.985601\n",
       "2 -1.455963  0.254017  0.645178 -0.839419\n",
       "3  0.190508  1.295388  0.171860 -0.309461\n",
       "4 -0.800867  1.419327  0.798924  0.640834\n",
       "5  0.930324  0.427597 -1.101573 -0.534165\n",
       "6  1.022200 -0.190328  1.355074  0.197339\n",
       "7 -0.216576  0.454335 -0.425840 -0.436705\n",
       "8  0.190508  1.295388  0.171860 -0.309461"
      ]
     },
     "execution_count": 75,
     "metadata": {},
     "output_type": "execute_result"
    }
   ],
   "source": [
    "s = df.iloc[3]\n",
    "df.append(s, ignore_index=True)"
   ]
  },
  {
   "cell_type": "code",
   "execution_count": 76,
   "metadata": {
    "collapsed": false
   },
   "outputs": [
    {
     "data": {
      "text/html": [
       "<div>\n",
       "<table border=\"1\" class=\"dataframe\">\n",
       "  <thead>\n",
       "    <tr style=\"text-align: right;\">\n",
       "      <th></th>\n",
       "      <th>A</th>\n",
       "      <th>B</th>\n",
       "      <th>C</th>\n",
       "      <th>D</th>\n",
       "    </tr>\n",
       "  </thead>\n",
       "  <tbody>\n",
       "    <tr>\n",
       "      <th>0</th>\n",
       "      <td>foo</td>\n",
       "      <td>one</td>\n",
       "      <td>-0.535183</td>\n",
       "      <td>-0.085460</td>\n",
       "    </tr>\n",
       "    <tr>\n",
       "      <th>1</th>\n",
       "      <td>bar</td>\n",
       "      <td>one</td>\n",
       "      <td>0.819256</td>\n",
       "      <td>-0.902414</td>\n",
       "    </tr>\n",
       "    <tr>\n",
       "      <th>2</th>\n",
       "      <td>foo</td>\n",
       "      <td>two</td>\n",
       "      <td>-1.453541</td>\n",
       "      <td>0.133451</td>\n",
       "    </tr>\n",
       "    <tr>\n",
       "      <th>3</th>\n",
       "      <td>bar</td>\n",
       "      <td>three</td>\n",
       "      <td>-0.526851</td>\n",
       "      <td>0.773508</td>\n",
       "    </tr>\n",
       "    <tr>\n",
       "      <th>4</th>\n",
       "      <td>foo</td>\n",
       "      <td>two</td>\n",
       "      <td>0.356455</td>\n",
       "      <td>0.218215</td>\n",
       "    </tr>\n",
       "    <tr>\n",
       "      <th>5</th>\n",
       "      <td>bar</td>\n",
       "      <td>two</td>\n",
       "      <td>-1.865788</td>\n",
       "      <td>-0.286563</td>\n",
       "    </tr>\n",
       "    <tr>\n",
       "      <th>6</th>\n",
       "      <td>foo</td>\n",
       "      <td>one</td>\n",
       "      <td>0.816162</td>\n",
       "      <td>-0.307018</td>\n",
       "    </tr>\n",
       "    <tr>\n",
       "      <th>7</th>\n",
       "      <td>bar</td>\n",
       "      <td>three</td>\n",
       "      <td>0.910554</td>\n",
       "      <td>-0.239847</td>\n",
       "    </tr>\n",
       "  </tbody>\n",
       "</table>\n",
       "</div>"
      ],
      "text/plain": [
       "     A      B         C         D\n",
       "0  foo    one -0.535183 -0.085460\n",
       "1  bar    one  0.819256 -0.902414\n",
       "2  foo    two -1.453541  0.133451\n",
       "3  bar  three -0.526851  0.773508\n",
       "4  foo    two  0.356455  0.218215\n",
       "5  bar    two -1.865788 -0.286563\n",
       "6  foo    one  0.816162 -0.307018\n",
       "7  bar  three  0.910554 -0.239847"
      ]
     },
     "execution_count": 76,
     "metadata": {},
     "output_type": "execute_result"
    }
   ],
   "source": [
    "df = pd.DataFrame({'A' : ['foo', 'bar', 'foo', 'bar',\n",
    "                          'foo', 'bar', 'foo', 'bar'],\n",
    "                   'B' : ['one', 'one', 'two', 'three',\n",
    "                          'two', 'two', 'one', 'three'],\n",
    "                   'C' : np.random.randn(8),\n",
    "                   'D' : np.random.randn(8)\n",
    "                  })\n",
    "df"
   ]
  },
  {
   "cell_type": "code",
   "execution_count": 77,
   "metadata": {
    "collapsed": false
   },
   "outputs": [
    {
     "data": {
      "text/html": [
       "<div>\n",
       "<table border=\"1\" class=\"dataframe\">\n",
       "  <thead>\n",
       "    <tr style=\"text-align: right;\">\n",
       "      <th></th>\n",
       "      <th>C</th>\n",
       "      <th>D</th>\n",
       "    </tr>\n",
       "    <tr>\n",
       "      <th>A</th>\n",
       "      <th></th>\n",
       "      <th></th>\n",
       "    </tr>\n",
       "  </thead>\n",
       "  <tbody>\n",
       "    <tr>\n",
       "      <th>bar</th>\n",
       "      <td>-0.662829</td>\n",
       "      <td>-0.655316</td>\n",
       "    </tr>\n",
       "    <tr>\n",
       "      <th>foo</th>\n",
       "      <td>-0.816108</td>\n",
       "      <td>-0.040812</td>\n",
       "    </tr>\n",
       "  </tbody>\n",
       "</table>\n",
       "</div>"
      ],
      "text/plain": [
       "            C         D\n",
       "A                      \n",
       "bar -0.662829 -0.655316\n",
       "foo -0.816108 -0.040812"
      ]
     },
     "execution_count": 77,
     "metadata": {},
     "output_type": "execute_result"
    }
   ],
   "source": [
    "df.groupby('A').sum()"
   ]
  },
  {
   "cell_type": "code",
   "execution_count": 78,
   "metadata": {
    "collapsed": false
   },
   "outputs": [
    {
     "data": {
      "text/html": [
       "<div>\n",
       "<table border=\"1\" class=\"dataframe\">\n",
       "  <thead>\n",
       "    <tr style=\"text-align: right;\">\n",
       "      <th></th>\n",
       "      <th></th>\n",
       "      <th>C</th>\n",
       "      <th>D</th>\n",
       "    </tr>\n",
       "    <tr>\n",
       "      <th>A</th>\n",
       "      <th>B</th>\n",
       "      <th></th>\n",
       "      <th></th>\n",
       "    </tr>\n",
       "  </thead>\n",
       "  <tbody>\n",
       "    <tr>\n",
       "      <th rowspan=\"3\" valign=\"top\">bar</th>\n",
       "      <th>one</th>\n",
       "      <td>0.819256</td>\n",
       "      <td>-0.902414</td>\n",
       "    </tr>\n",
       "    <tr>\n",
       "      <th>three</th>\n",
       "      <td>0.383703</td>\n",
       "      <td>0.533661</td>\n",
       "    </tr>\n",
       "    <tr>\n",
       "      <th>two</th>\n",
       "      <td>-1.865788</td>\n",
       "      <td>-0.286563</td>\n",
       "    </tr>\n",
       "    <tr>\n",
       "      <th rowspan=\"2\" valign=\"top\">foo</th>\n",
       "      <th>one</th>\n",
       "      <td>0.280978</td>\n",
       "      <td>-0.392477</td>\n",
       "    </tr>\n",
       "    <tr>\n",
       "      <th>two</th>\n",
       "      <td>-1.097086</td>\n",
       "      <td>0.351666</td>\n",
       "    </tr>\n",
       "  </tbody>\n",
       "</table>\n",
       "</div>"
      ],
      "text/plain": [
       "                  C         D\n",
       "A   B                        \n",
       "bar one    0.819256 -0.902414\n",
       "    three  0.383703  0.533661\n",
       "    two   -1.865788 -0.286563\n",
       "foo one    0.280978 -0.392477\n",
       "    two   -1.097086  0.351666"
      ]
     },
     "execution_count": 78,
     "metadata": {},
     "output_type": "execute_result"
    }
   ],
   "source": [
    "df.groupby(['A', 'B']).sum()"
   ]
  },
  {
   "cell_type": "code",
   "execution_count": 80,
   "metadata": {
    "collapsed": false
   },
   "outputs": [
    {
     "data": {
      "text/html": [
       "<div>\n",
       "<table border=\"1\" class=\"dataframe\">\n",
       "  <thead>\n",
       "    <tr style=\"text-align: right;\">\n",
       "      <th></th>\n",
       "      <th>A</th>\n",
       "      <th>B</th>\n",
       "      <th>C</th>\n",
       "      <th>D</th>\n",
       "      <th>E</th>\n",
       "    </tr>\n",
       "  </thead>\n",
       "  <tbody>\n",
       "    <tr>\n",
       "      <th>0</th>\n",
       "      <td>one</td>\n",
       "      <td>A</td>\n",
       "      <td>foo</td>\n",
       "      <td>1.202664</td>\n",
       "      <td>-0.251591</td>\n",
       "    </tr>\n",
       "    <tr>\n",
       "      <th>1</th>\n",
       "      <td>one</td>\n",
       "      <td>B</td>\n",
       "      <td>foo</td>\n",
       "      <td>0.712859</td>\n",
       "      <td>1.157404</td>\n",
       "    </tr>\n",
       "    <tr>\n",
       "      <th>2</th>\n",
       "      <td>two</td>\n",
       "      <td>C</td>\n",
       "      <td>foo</td>\n",
       "      <td>0.574956</td>\n",
       "      <td>-0.381705</td>\n",
       "    </tr>\n",
       "    <tr>\n",
       "      <th>3</th>\n",
       "      <td>three</td>\n",
       "      <td>A</td>\n",
       "      <td>bar</td>\n",
       "      <td>0.175422</td>\n",
       "      <td>1.185586</td>\n",
       "    </tr>\n",
       "    <tr>\n",
       "      <th>4</th>\n",
       "      <td>one</td>\n",
       "      <td>B</td>\n",
       "      <td>bar</td>\n",
       "      <td>-0.301486</td>\n",
       "      <td>1.106258</td>\n",
       "    </tr>\n",
       "    <tr>\n",
       "      <th>5</th>\n",
       "      <td>one</td>\n",
       "      <td>C</td>\n",
       "      <td>bar</td>\n",
       "      <td>-0.743024</td>\n",
       "      <td>0.826847</td>\n",
       "    </tr>\n",
       "    <tr>\n",
       "      <th>6</th>\n",
       "      <td>two</td>\n",
       "      <td>A</td>\n",
       "      <td>foo</td>\n",
       "      <td>-2.301642</td>\n",
       "      <td>-0.040919</td>\n",
       "    </tr>\n",
       "    <tr>\n",
       "      <th>7</th>\n",
       "      <td>three</td>\n",
       "      <td>B</td>\n",
       "      <td>foo</td>\n",
       "      <td>-0.469723</td>\n",
       "      <td>-0.697790</td>\n",
       "    </tr>\n",
       "    <tr>\n",
       "      <th>8</th>\n",
       "      <td>one</td>\n",
       "      <td>C</td>\n",
       "      <td>foo</td>\n",
       "      <td>-2.012332</td>\n",
       "      <td>0.800066</td>\n",
       "    </tr>\n",
       "    <tr>\n",
       "      <th>9</th>\n",
       "      <td>one</td>\n",
       "      <td>A</td>\n",
       "      <td>bar</td>\n",
       "      <td>0.018784</td>\n",
       "      <td>-0.867385</td>\n",
       "    </tr>\n",
       "    <tr>\n",
       "      <th>10</th>\n",
       "      <td>two</td>\n",
       "      <td>B</td>\n",
       "      <td>bar</td>\n",
       "      <td>-0.496652</td>\n",
       "      <td>0.433144</td>\n",
       "    </tr>\n",
       "    <tr>\n",
       "      <th>11</th>\n",
       "      <td>three</td>\n",
       "      <td>C</td>\n",
       "      <td>bar</td>\n",
       "      <td>1.011224</td>\n",
       "      <td>-0.020236</td>\n",
       "    </tr>\n",
       "  </tbody>\n",
       "</table>\n",
       "</div>"
      ],
      "text/plain": [
       "        A  B    C         D         E\n",
       "0     one  A  foo  1.202664 -0.251591\n",
       "1     one  B  foo  0.712859  1.157404\n",
       "2     two  C  foo  0.574956 -0.381705\n",
       "3   three  A  bar  0.175422  1.185586\n",
       "4     one  B  bar -0.301486  1.106258\n",
       "5     one  C  bar -0.743024  0.826847\n",
       "6     two  A  foo -2.301642 -0.040919\n",
       "7   three  B  foo -0.469723 -0.697790\n",
       "8     one  C  foo -2.012332  0.800066\n",
       "9     one  A  bar  0.018784 -0.867385\n",
       "10    two  B  bar -0.496652  0.433144\n",
       "11  three  C  bar  1.011224 -0.020236"
      ]
     },
     "execution_count": 80,
     "metadata": {},
     "output_type": "execute_result"
    }
   ],
   "source": [
    "df = pd.DataFrame({'A' : ['one', 'one', 'two', 'three'] * 3,\n",
    "                   'B' : ['A', 'B', 'C'] * 4,\n",
    "                   'C' : ['foo', 'foo', 'foo', 'bar', 'bar', 'bar'] * 2,\n",
    "                   'D' : np.random.randn(12),\n",
    "                   'E' : np.random.randn(12)\n",
    "                  })\n",
    "df"
   ]
  },
  {
   "cell_type": "code",
   "execution_count": 81,
   "metadata": {
    "collapsed": false
   },
   "outputs": [
    {
     "data": {
      "text/html": [
       "<div>\n",
       "<table border=\"1\" class=\"dataframe\">\n",
       "  <thead>\n",
       "    <tr style=\"text-align: right;\">\n",
       "      <th></th>\n",
       "      <th>C</th>\n",
       "      <th>bar</th>\n",
       "      <th>foo</th>\n",
       "    </tr>\n",
       "    <tr>\n",
       "      <th>A</th>\n",
       "      <th>B</th>\n",
       "      <th></th>\n",
       "      <th></th>\n",
       "    </tr>\n",
       "  </thead>\n",
       "  <tbody>\n",
       "    <tr>\n",
       "      <th rowspan=\"3\" valign=\"top\">one</th>\n",
       "      <th>A</th>\n",
       "      <td>0.018784</td>\n",
       "      <td>1.202664</td>\n",
       "    </tr>\n",
       "    <tr>\n",
       "      <th>B</th>\n",
       "      <td>-0.301486</td>\n",
       "      <td>0.712859</td>\n",
       "    </tr>\n",
       "    <tr>\n",
       "      <th>C</th>\n",
       "      <td>-0.743024</td>\n",
       "      <td>-2.012332</td>\n",
       "    </tr>\n",
       "    <tr>\n",
       "      <th rowspan=\"3\" valign=\"top\">three</th>\n",
       "      <th>A</th>\n",
       "      <td>0.175422</td>\n",
       "      <td>NaN</td>\n",
       "    </tr>\n",
       "    <tr>\n",
       "      <th>B</th>\n",
       "      <td>NaN</td>\n",
       "      <td>-0.469723</td>\n",
       "    </tr>\n",
       "    <tr>\n",
       "      <th>C</th>\n",
       "      <td>1.011224</td>\n",
       "      <td>NaN</td>\n",
       "    </tr>\n",
       "    <tr>\n",
       "      <th rowspan=\"3\" valign=\"top\">two</th>\n",
       "      <th>A</th>\n",
       "      <td>NaN</td>\n",
       "      <td>-2.301642</td>\n",
       "    </tr>\n",
       "    <tr>\n",
       "      <th>B</th>\n",
       "      <td>-0.496652</td>\n",
       "      <td>NaN</td>\n",
       "    </tr>\n",
       "    <tr>\n",
       "      <th>C</th>\n",
       "      <td>NaN</td>\n",
       "      <td>0.574956</td>\n",
       "    </tr>\n",
       "  </tbody>\n",
       "</table>\n",
       "</div>"
      ],
      "text/plain": [
       "C             bar       foo\n",
       "A     B                    \n",
       "one   A  0.018784  1.202664\n",
       "      B -0.301486  0.712859\n",
       "      C -0.743024 -2.012332\n",
       "three A  0.175422       NaN\n",
       "      B       NaN -0.469723\n",
       "      C  1.011224       NaN\n",
       "two   A       NaN -2.301642\n",
       "      B -0.496652       NaN\n",
       "      C       NaN  0.574956"
      ]
     },
     "execution_count": 81,
     "metadata": {},
     "output_type": "execute_result"
    }
   ],
   "source": [
    "pd.pivot_table(df, values='D', index=['A', 'B'], columns=['C'])"
   ]
  },
  {
   "cell_type": "markdown",
   "metadata": {},
   "source": [
    "# 时间序列"
   ]
  },
  {
   "cell_type": "code",
   "execution_count": 85,
   "metadata": {
    "collapsed": false
   },
   "outputs": [
    {
     "data": {
      "text/plain": [
       "2012-01-01    24474\n",
       "Freq: 5T, dtype: int64"
      ]
     },
     "execution_count": 85,
     "metadata": {},
     "output_type": "execute_result"
    }
   ],
   "source": [
    "rng = pd.date_range('1/1/2012', periods=100, freq='S')\n",
    "ts = pd.Series(np.random.randint(0, 500, len(rng)), index=rng)\n",
    "ts.resample('5Min').sum()"
   ]
  },
  {
   "cell_type": "code",
   "execution_count": 86,
   "metadata": {
    "collapsed": false
   },
   "outputs": [
    {
     "data": {
      "text/plain": [
       "2012-03-06    0.906650\n",
       "2012-03-07    0.080050\n",
       "2012-03-08   -0.754836\n",
       "2012-03-09    1.484820\n",
       "2012-03-10   -0.809845\n",
       "Freq: D, dtype: float64"
      ]
     },
     "execution_count": 86,
     "metadata": {},
     "output_type": "execute_result"
    }
   ],
   "source": [
    "rng = pd.date_range('3/6/2012 00:00', periods=5, freq='D')\n",
    "ts = pd.Series(np.random.randn(len(rng)), rng)\n",
    "ts"
   ]
  },
  {
   "cell_type": "code",
   "execution_count": 87,
   "metadata": {
    "collapsed": false
   },
   "outputs": [
    {
     "data": {
      "text/plain": [
       "2012-03-06 00:00:00+00:00    0.906650\n",
       "2012-03-07 00:00:00+00:00    0.080050\n",
       "2012-03-08 00:00:00+00:00   -0.754836\n",
       "2012-03-09 00:00:00+00:00    1.484820\n",
       "2012-03-10 00:00:00+00:00   -0.809845\n",
       "Freq: D, dtype: float64"
      ]
     },
     "execution_count": 87,
     "metadata": {},
     "output_type": "execute_result"
    }
   ],
   "source": [
    "ts_utc = ts.tz_localize('UTC')\n",
    "ts_utc"
   ]
  },
  {
   "cell_type": "code",
   "execution_count": 88,
   "metadata": {
    "collapsed": false
   },
   "outputs": [
    {
     "data": {
      "text/plain": [
       "2012-03-05 19:00:00-05:00    0.906650\n",
       "2012-03-06 19:00:00-05:00    0.080050\n",
       "2012-03-07 19:00:00-05:00   -0.754836\n",
       "2012-03-08 19:00:00-05:00    1.484820\n",
       "2012-03-09 19:00:00-05:00   -0.809845\n",
       "Freq: D, dtype: float64"
      ]
     },
     "execution_count": 88,
     "metadata": {},
     "output_type": "execute_result"
    }
   ],
   "source": [
    "ts_utc.tz_convert('US/Eastern')"
   ]
  },
  {
   "cell_type": "code",
   "execution_count": 89,
   "metadata": {
    "collapsed": false
   },
   "outputs": [
    {
     "data": {
      "text/plain": [
       "2012-01-31    1.099246\n",
       "2012-02-29   -0.917740\n",
       "2012-03-31   -0.153001\n",
       "2012-04-30    0.322496\n",
       "2012-05-31   -1.214210\n",
       "Freq: M, dtype: float64"
      ]
     },
     "execution_count": 89,
     "metadata": {},
     "output_type": "execute_result"
    }
   ],
   "source": [
    "rng = pd.date_range('1/1/2012', periods=5, freq='M')\n",
    "ts = pd.Series(np.random.randn(len(rng)), index=rng)\n",
    "ts"
   ]
  },
  {
   "cell_type": "code",
   "execution_count": 90,
   "metadata": {
    "collapsed": false
   },
   "outputs": [
    {
     "data": {
      "text/plain": [
       "2012-01    1.099246\n",
       "2012-02   -0.917740\n",
       "2012-03   -0.153001\n",
       "2012-04    0.322496\n",
       "2012-05   -1.214210\n",
       "Freq: M, dtype: float64"
      ]
     },
     "execution_count": 90,
     "metadata": {},
     "output_type": "execute_result"
    }
   ],
   "source": [
    "ps = ts.to_period()\n",
    "ps"
   ]
  },
  {
   "cell_type": "code",
   "execution_count": 91,
   "metadata": {
    "collapsed": false
   },
   "outputs": [
    {
     "data": {
      "text/plain": [
       "2012-01-01    1.099246\n",
       "2012-02-01   -0.917740\n",
       "2012-03-01   -0.153001\n",
       "2012-04-01    0.322496\n",
       "2012-05-01   -1.214210\n",
       "Freq: MS, dtype: float64"
      ]
     },
     "execution_count": 91,
     "metadata": {},
     "output_type": "execute_result"
    }
   ],
   "source": [
    "ps.to_timestamp()"
   ]
  },
  {
   "cell_type": "code",
   "execution_count": 92,
   "metadata": {
    "collapsed": false
   },
   "outputs": [
    {
     "data": {
      "text/plain": [
       "1990-03-01 09:00   -1.037476\n",
       "1990-06-01 09:00    0.258675\n",
       "1990-09-01 09:00    0.368688\n",
       "1990-12-01 09:00   -0.103862\n",
       "1991-03-01 09:00    2.410022\n",
       "Freq: H, dtype: float64"
      ]
     },
     "execution_count": 92,
     "metadata": {},
     "output_type": "execute_result"
    }
   ],
   "source": [
    "prng = pd.period_range('1990Q1', '2000Q4', freq='Q-NOV')\n",
    "ts = pd.Series(np.random.randn(len(prng)), prng)\n",
    "ts.index = (prng.asfreq('M', 'e') + 1).asfreq('H', 's') +9\n",
    "ts.head()"
   ]
  },
  {
   "cell_type": "markdown",
   "metadata": {},
   "source": [
    "# 分类"
   ]
  },
  {
   "cell_type": "code",
   "execution_count": 94,
   "metadata": {
    "collapsed": false
   },
   "outputs": [
    {
     "data": {
      "text/html": [
       "<div>\n",
       "<table border=\"1\" class=\"dataframe\">\n",
       "  <thead>\n",
       "    <tr style=\"text-align: right;\">\n",
       "      <th></th>\n",
       "      <th>id</th>\n",
       "      <th>raw_grade</th>\n",
       "    </tr>\n",
       "  </thead>\n",
       "  <tbody>\n",
       "    <tr>\n",
       "      <th>0</th>\n",
       "      <td>1</td>\n",
       "      <td>a</td>\n",
       "    </tr>\n",
       "    <tr>\n",
       "      <th>1</th>\n",
       "      <td>2</td>\n",
       "      <td>b</td>\n",
       "    </tr>\n",
       "    <tr>\n",
       "      <th>2</th>\n",
       "      <td>3</td>\n",
       "      <td>b</td>\n",
       "    </tr>\n",
       "    <tr>\n",
       "      <th>3</th>\n",
       "      <td>4</td>\n",
       "      <td>a</td>\n",
       "    </tr>\n",
       "    <tr>\n",
       "      <th>4</th>\n",
       "      <td>5</td>\n",
       "      <td>a</td>\n",
       "    </tr>\n",
       "    <tr>\n",
       "      <th>5</th>\n",
       "      <td>6</td>\n",
       "      <td>e</td>\n",
       "    </tr>\n",
       "  </tbody>\n",
       "</table>\n",
       "</div>"
      ],
      "text/plain": [
       "   id raw_grade\n",
       "0   1         a\n",
       "1   2         b\n",
       "2   3         b\n",
       "3   4         a\n",
       "4   5         a\n",
       "5   6         e"
      ]
     },
     "execution_count": 94,
     "metadata": {},
     "output_type": "execute_result"
    }
   ],
   "source": [
    "df = pd.DataFrame({'id' : [1, 2, 3, 4, 5, 6], 'raw_grade' : ['a', 'b', 'b', 'a', 'a', 'e']})\n",
    "df"
   ]
  },
  {
   "cell_type": "code",
   "execution_count": 101,
   "metadata": {
    "collapsed": false
   },
   "outputs": [
    {
     "data": {
      "text/plain": [
       "0    a\n",
       "1    b\n",
       "2    b\n",
       "3    a\n",
       "4    a\n",
       "5    e\n",
       "Name: grade, dtype: category\n",
       "Categories (3, object): [a, b, e]"
      ]
     },
     "execution_count": 101,
     "metadata": {},
     "output_type": "execute_result"
    }
   ],
   "source": [
    "df['grade'] = df['raw_grade'].astype('category')\n",
    "df['grade']"
   ]
  },
  {
   "cell_type": "code",
   "execution_count": 102,
   "metadata": {
    "collapsed": false
   },
   "outputs": [
    {
     "data": {
      "text/plain": [
       "0    a\n",
       "1    b\n",
       "2    b\n",
       "3    a\n",
       "4    a\n",
       "5    e\n",
       "Name: grade, dtype: category\n",
       "Categories (3, object): [a, b, e]"
      ]
     },
     "execution_count": 102,
     "metadata": {},
     "output_type": "execute_result"
    }
   ],
   "source": [
    "df[\"grade\"] = df[\"raw_grade\"].astype(\"category\")\n",
    "df[\"grade\"]"
   ]
  },
  {
   "cell_type": "code",
   "execution_count": 103,
   "metadata": {
    "collapsed": true
   },
   "outputs": [],
   "source": [
    "df[\"grade\"].cat.categories = [\"very good\", \"good\", \"very bad\"]"
   ]
  },
  {
   "cell_type": "code",
   "execution_count": 104,
   "metadata": {
    "collapsed": false
   },
   "outputs": [
    {
     "data": {
      "text/plain": [
       "0    very good\n",
       "1         good\n",
       "2         good\n",
       "3    very good\n",
       "4    very good\n",
       "5     very bad\n",
       "Name: grade, dtype: category\n",
       "Categories (5, object): [very bad, bad, medium, good, very good]"
      ]
     },
     "execution_count": 104,
     "metadata": {},
     "output_type": "execute_result"
    }
   ],
   "source": [
    "df['grade'] = df['grade'].cat.set_categories(['very bad', 'bad', 'medium', 'good', 'very good'])\n",
    "df['grade']"
   ]
  },
  {
   "cell_type": "code",
   "execution_count": 105,
   "metadata": {
    "collapsed": false
   },
   "outputs": [
    {
     "data": {
      "text/html": [
       "<div>\n",
       "<table border=\"1\" class=\"dataframe\">\n",
       "  <thead>\n",
       "    <tr style=\"text-align: right;\">\n",
       "      <th></th>\n",
       "      <th>id</th>\n",
       "      <th>raw_grade</th>\n",
       "      <th>grade</th>\n",
       "    </tr>\n",
       "  </thead>\n",
       "  <tbody>\n",
       "    <tr>\n",
       "      <th>5</th>\n",
       "      <td>6</td>\n",
       "      <td>e</td>\n",
       "      <td>very bad</td>\n",
       "    </tr>\n",
       "    <tr>\n",
       "      <th>1</th>\n",
       "      <td>2</td>\n",
       "      <td>b</td>\n",
       "      <td>good</td>\n",
       "    </tr>\n",
       "    <tr>\n",
       "      <th>2</th>\n",
       "      <td>3</td>\n",
       "      <td>b</td>\n",
       "      <td>good</td>\n",
       "    </tr>\n",
       "    <tr>\n",
       "      <th>0</th>\n",
       "      <td>1</td>\n",
       "      <td>a</td>\n",
       "      <td>very good</td>\n",
       "    </tr>\n",
       "    <tr>\n",
       "      <th>3</th>\n",
       "      <td>4</td>\n",
       "      <td>a</td>\n",
       "      <td>very good</td>\n",
       "    </tr>\n",
       "    <tr>\n",
       "      <th>4</th>\n",
       "      <td>5</td>\n",
       "      <td>a</td>\n",
       "      <td>very good</td>\n",
       "    </tr>\n",
       "  </tbody>\n",
       "</table>\n",
       "</div>"
      ],
      "text/plain": [
       "   id raw_grade      grade\n",
       "5   6         e   very bad\n",
       "1   2         b       good\n",
       "2   3         b       good\n",
       "0   1         a  very good\n",
       "3   4         a  very good\n",
       "4   5         a  very good"
      ]
     },
     "execution_count": 105,
     "metadata": {},
     "output_type": "execute_result"
    }
   ],
   "source": [
    "df.sort_values('grade')"
   ]
  },
  {
   "cell_type": "code",
   "execution_count": 106,
   "metadata": {
    "collapsed": false
   },
   "outputs": [
    {
     "data": {
      "text/plain": [
       "grade\n",
       "very bad     1\n",
       "bad          0\n",
       "medium       0\n",
       "good         2\n",
       "very good    3\n",
       "dtype: int64"
      ]
     },
     "execution_count": 106,
     "metadata": {},
     "output_type": "execute_result"
    }
   ],
   "source": [
    "df.groupby('grade').size()"
   ]
  },
  {
   "cell_type": "markdown",
   "metadata": {},
   "source": [
    "# 作图"
   ]
  },
  {
   "cell_type": "code",
   "execution_count": 2,
   "metadata": {
    "collapsed": false
   },
   "outputs": [],
   "source": [
    "ts = pd.Series(np.random.randn(1000), index=pd.date_range('1/1/2000', periods=1000))\n",
    "ts = ts.cumsum()\n",
    "ts.plot()\n",
    "plt.show()"
   ]
  },
  {
   "cell_type": "code",
   "execution_count": 6,
   "metadata": {
    "collapsed": false
   },
   "outputs": [],
   "source": [
    "df = pd.DataFrame(np.random.randn(1000, 4), index=ts.index, columns=['A', 'B', 'C', 'D'])\n",
    "df = df.cumsum()\n",
    "plt.figure(); df.plot(); plt.legend(loc='best')\n",
    "plt.show()"
   ]
  },
  {
   "cell_type": "markdown",
   "metadata": {},
   "source": [
    "# 数据I/O"
   ]
  },
  {
   "cell_type": "code",
   "execution_count": 9,
   "metadata": {
    "collapsed": true
   },
   "outputs": [],
   "source": [
    "df.to_csv('foo.csv')"
   ]
  },
  {
   "cell_type": "code",
   "execution_count": 10,
   "metadata": {
    "collapsed": true
   },
   "outputs": [
    {
     "data": {
      "text/html": [
       "<div>\n",
       "<table border=\"1\" class=\"dataframe\">\n",
       "  <thead>\n",
       "    <tr style=\"text-align: right;\">\n",
       "      <th></th>\n",
       "      <th>Unnamed: 0</th>\n",
       "      <th>A</th>\n",
       "      <th>B</th>\n",
       "      <th>C</th>\n",
       "      <th>D</th>\n",
       "    </tr>\n",
       "  </thead>\n",
       "  <tbody>\n",
       "    <tr>\n",
       "      <th>0</th>\n",
       "      <td>2000-01-01</td>\n",
       "      <td>-1.623629</td>\n",
       "      <td>-0.879502</td>\n",
       "      <td>0.063585</td>\n",
       "      <td>-0.140951</td>\n",
       "    </tr>\n",
       "    <tr>\n",
       "      <th>1</th>\n",
       "      <td>2000-01-02</td>\n",
       "      <td>-0.867698</td>\n",
       "      <td>-1.059559</td>\n",
       "      <td>2.275921</td>\n",
       "      <td>-0.748543</td>\n",
       "    </tr>\n",
       "    <tr>\n",
       "      <th>2</th>\n",
       "      <td>2000-01-03</td>\n",
       "      <td>0.258151</td>\n",
       "      <td>0.376348</td>\n",
       "      <td>1.078156</td>\n",
       "      <td>-0.455451</td>\n",
       "    </tr>\n",
       "    <tr>\n",
       "      <th>3</th>\n",
       "      <td>2000-01-04</td>\n",
       "      <td>0.780587</td>\n",
       "      <td>0.366950</td>\n",
       "      <td>1.040389</td>\n",
       "      <td>0.258315</td>\n",
       "    </tr>\n",
       "    <tr>\n",
       "      <th>4</th>\n",
       "      <td>2000-01-05</td>\n",
       "      <td>1.090330</td>\n",
       "      <td>-0.450843</td>\n",
       "      <td>0.499533</td>\n",
       "      <td>0.511777</td>\n",
       "    </tr>\n",
       "    <tr>\n",
       "      <th>5</th>\n",
       "      <td>2000-01-06</td>\n",
       "      <td>1.300226</td>\n",
       "      <td>-1.045351</td>\n",
       "      <td>1.030346</td>\n",
       "      <td>-0.910923</td>\n",
       "    </tr>\n",
       "    <tr>\n",
       "      <th>6</th>\n",
       "      <td>2000-01-07</td>\n",
       "      <td>1.821508</td>\n",
       "      <td>-2.109033</td>\n",
       "      <td>1.215532</td>\n",
       "      <td>0.062596</td>\n",
       "    </tr>\n",
       "    <tr>\n",
       "      <th>7</th>\n",
       "      <td>2000-01-08</td>\n",
       "      <td>0.723305</td>\n",
       "      <td>-1.454431</td>\n",
       "      <td>1.601059</td>\n",
       "      <td>1.142959</td>\n",
       "    </tr>\n",
       "    <tr>\n",
       "      <th>8</th>\n",
       "      <td>2000-01-09</td>\n",
       "      <td>1.584214</td>\n",
       "      <td>-1.101360</td>\n",
       "      <td>2.984352</td>\n",
       "      <td>-0.087717</td>\n",
       "    </tr>\n",
       "    <tr>\n",
       "      <th>9</th>\n",
       "      <td>2000-01-10</td>\n",
       "      <td>1.997934</td>\n",
       "      <td>-0.624064</td>\n",
       "      <td>1.136822</td>\n",
       "      <td>-0.316226</td>\n",
       "    </tr>\n",
       "    <tr>\n",
       "      <th>10</th>\n",
       "      <td>2000-01-11</td>\n",
       "      <td>2.464024</td>\n",
       "      <td>-0.324869</td>\n",
       "      <td>1.235960</td>\n",
       "      <td>-0.615568</td>\n",
       "    </tr>\n",
       "    <tr>\n",
       "      <th>11</th>\n",
       "      <td>2000-01-12</td>\n",
       "      <td>1.762373</td>\n",
       "      <td>0.935359</td>\n",
       "      <td>2.528106</td>\n",
       "      <td>-1.466176</td>\n",
       "    </tr>\n",
       "    <tr>\n",
       "      <th>12</th>\n",
       "      <td>2000-01-13</td>\n",
       "      <td>1.206187</td>\n",
       "      <td>0.096424</td>\n",
       "      <td>2.466307</td>\n",
       "      <td>-2.018030</td>\n",
       "    </tr>\n",
       "    <tr>\n",
       "      <th>13</th>\n",
       "      <td>2000-01-14</td>\n",
       "      <td>2.270714</td>\n",
       "      <td>1.244050</td>\n",
       "      <td>2.114322</td>\n",
       "      <td>-0.693565</td>\n",
       "    </tr>\n",
       "    <tr>\n",
       "      <th>14</th>\n",
       "      <td>2000-01-15</td>\n",
       "      <td>2.285267</td>\n",
       "      <td>1.508173</td>\n",
       "      <td>1.155284</td>\n",
       "      <td>-1.546704</td>\n",
       "    </tr>\n",
       "    <tr>\n",
       "      <th>15</th>\n",
       "      <td>2000-01-16</td>\n",
       "      <td>3.136744</td>\n",
       "      <td>0.323729</td>\n",
       "      <td>3.310442</td>\n",
       "      <td>-0.189535</td>\n",
       "    </tr>\n",
       "    <tr>\n",
       "      <th>16</th>\n",
       "      <td>2000-01-17</td>\n",
       "      <td>2.577935</td>\n",
       "      <td>0.730935</td>\n",
       "      <td>3.421724</td>\n",
       "      <td>-0.739253</td>\n",
       "    </tr>\n",
       "    <tr>\n",
       "      <th>17</th>\n",
       "      <td>2000-01-18</td>\n",
       "      <td>3.128464</td>\n",
       "      <td>0.504433</td>\n",
       "      <td>1.687140</td>\n",
       "      <td>-1.274874</td>\n",
       "    </tr>\n",
       "    <tr>\n",
       "      <th>18</th>\n",
       "      <td>2000-01-19</td>\n",
       "      <td>3.276728</td>\n",
       "      <td>-0.014603</td>\n",
       "      <td>0.313198</td>\n",
       "      <td>-2.449037</td>\n",
       "    </tr>\n",
       "    <tr>\n",
       "      <th>19</th>\n",
       "      <td>2000-01-20</td>\n",
       "      <td>4.350404</td>\n",
       "      <td>1.403040</td>\n",
       "      <td>-0.267495</td>\n",
       "      <td>-3.795346</td>\n",
       "    </tr>\n",
       "    <tr>\n",
       "      <th>20</th>\n",
       "      <td>2000-01-21</td>\n",
       "      <td>4.406054</td>\n",
       "      <td>1.559208</td>\n",
       "      <td>0.733010</td>\n",
       "      <td>-3.425253</td>\n",
       "    </tr>\n",
       "    <tr>\n",
       "      <th>21</th>\n",
       "      <td>2000-01-22</td>\n",
       "      <td>4.891972</td>\n",
       "      <td>1.855389</td>\n",
       "      <td>0.920636</td>\n",
       "      <td>-2.529152</td>\n",
       "    </tr>\n",
       "    <tr>\n",
       "      <th>22</th>\n",
       "      <td>2000-01-23</td>\n",
       "      <td>6.382965</td>\n",
       "      <td>2.385123</td>\n",
       "      <td>1.975531</td>\n",
       "      <td>-2.284615</td>\n",
       "    </tr>\n",
       "    <tr>\n",
       "      <th>23</th>\n",
       "      <td>2000-01-24</td>\n",
       "      <td>5.870646</td>\n",
       "      <td>3.242570</td>\n",
       "      <td>1.424382</td>\n",
       "      <td>-3.982530</td>\n",
       "    </tr>\n",
       "    <tr>\n",
       "      <th>24</th>\n",
       "      <td>2000-01-25</td>\n",
       "      <td>4.870075</td>\n",
       "      <td>2.712623</td>\n",
       "      <td>2.183867</td>\n",
       "      <td>-4.184478</td>\n",
       "    </tr>\n",
       "    <tr>\n",
       "      <th>25</th>\n",
       "      <td>2000-01-26</td>\n",
       "      <td>5.639928</td>\n",
       "      <td>4.332835</td>\n",
       "      <td>1.315091</td>\n",
       "      <td>-5.177791</td>\n",
       "    </tr>\n",
       "    <tr>\n",
       "      <th>26</th>\n",
       "      <td>2000-01-27</td>\n",
       "      <td>4.186007</td>\n",
       "      <td>3.601698</td>\n",
       "      <td>2.008788</td>\n",
       "      <td>-5.321376</td>\n",
       "    </tr>\n",
       "    <tr>\n",
       "      <th>27</th>\n",
       "      <td>2000-01-28</td>\n",
       "      <td>4.586539</td>\n",
       "      <td>3.939155</td>\n",
       "      <td>2.785314</td>\n",
       "      <td>-4.621151</td>\n",
       "    </tr>\n",
       "    <tr>\n",
       "      <th>28</th>\n",
       "      <td>2000-01-29</td>\n",
       "      <td>4.038742</td>\n",
       "      <td>2.504980</td>\n",
       "      <td>2.061961</td>\n",
       "      <td>-3.637398</td>\n",
       "    </tr>\n",
       "    <tr>\n",
       "      <th>29</th>\n",
       "      <td>2000-01-30</td>\n",
       "      <td>4.889149</td>\n",
       "      <td>3.400180</td>\n",
       "      <td>1.598440</td>\n",
       "      <td>-3.613845</td>\n",
       "    </tr>\n",
       "    <tr>\n",
       "      <th>...</th>\n",
       "      <td>...</td>\n",
       "      <td>...</td>\n",
       "      <td>...</td>\n",
       "      <td>...</td>\n",
       "      <td>...</td>\n",
       "    </tr>\n",
       "    <tr>\n",
       "      <th>970</th>\n",
       "      <td>2002-08-28</td>\n",
       "      <td>-39.240579</td>\n",
       "      <td>1.423756</td>\n",
       "      <td>-28.625621</td>\n",
       "      <td>-12.600917</td>\n",
       "    </tr>\n",
       "    <tr>\n",
       "      <th>971</th>\n",
       "      <td>2002-08-29</td>\n",
       "      <td>-38.144459</td>\n",
       "      <td>2.147556</td>\n",
       "      <td>-28.753012</td>\n",
       "      <td>-11.981658</td>\n",
       "    </tr>\n",
       "    <tr>\n",
       "      <th>972</th>\n",
       "      <td>2002-08-30</td>\n",
       "      <td>-38.967767</td>\n",
       "      <td>1.906785</td>\n",
       "      <td>-28.676376</td>\n",
       "      <td>-11.062326</td>\n",
       "    </tr>\n",
       "    <tr>\n",
       "      <th>973</th>\n",
       "      <td>2002-08-31</td>\n",
       "      <td>-37.208504</td>\n",
       "      <td>2.166180</td>\n",
       "      <td>-25.223998</td>\n",
       "      <td>-11.518228</td>\n",
       "    </tr>\n",
       "    <tr>\n",
       "      <th>974</th>\n",
       "      <td>2002-09-01</td>\n",
       "      <td>-36.102075</td>\n",
       "      <td>1.936492</td>\n",
       "      <td>-26.811633</td>\n",
       "      <td>-10.555201</td>\n",
       "    </tr>\n",
       "    <tr>\n",
       "      <th>975</th>\n",
       "      <td>2002-09-02</td>\n",
       "      <td>-36.902383</td>\n",
       "      <td>1.681023</td>\n",
       "      <td>-27.470691</td>\n",
       "      <td>-9.856965</td>\n",
       "    </tr>\n",
       "    <tr>\n",
       "      <th>976</th>\n",
       "      <td>2002-09-03</td>\n",
       "      <td>-37.569671</td>\n",
       "      <td>1.620563</td>\n",
       "      <td>-28.021378</td>\n",
       "      <td>-11.247639</td>\n",
       "    </tr>\n",
       "    <tr>\n",
       "      <th>977</th>\n",
       "      <td>2002-09-04</td>\n",
       "      <td>-36.507713</td>\n",
       "      <td>1.948282</td>\n",
       "      <td>-28.570555</td>\n",
       "      <td>-10.469722</td>\n",
       "    </tr>\n",
       "    <tr>\n",
       "      <th>978</th>\n",
       "      <td>2002-09-05</td>\n",
       "      <td>-36.628388</td>\n",
       "      <td>0.663327</td>\n",
       "      <td>-29.189567</td>\n",
       "      <td>-11.379816</td>\n",
       "    </tr>\n",
       "    <tr>\n",
       "      <th>979</th>\n",
       "      <td>2002-09-06</td>\n",
       "      <td>-36.258777</td>\n",
       "      <td>0.470455</td>\n",
       "      <td>-29.192213</td>\n",
       "      <td>-10.425045</td>\n",
       "    </tr>\n",
       "    <tr>\n",
       "      <th>980</th>\n",
       "      <td>2002-09-07</td>\n",
       "      <td>-36.644647</td>\n",
       "      <td>-0.916020</td>\n",
       "      <td>-29.365058</td>\n",
       "      <td>-9.622349</td>\n",
       "    </tr>\n",
       "    <tr>\n",
       "      <th>981</th>\n",
       "      <td>2002-09-08</td>\n",
       "      <td>-35.936888</td>\n",
       "      <td>-1.712119</td>\n",
       "      <td>-29.204883</td>\n",
       "      <td>-8.093024</td>\n",
       "    </tr>\n",
       "    <tr>\n",
       "      <th>982</th>\n",
       "      <td>2002-09-09</td>\n",
       "      <td>-34.799928</td>\n",
       "      <td>-0.944900</td>\n",
       "      <td>-28.623817</td>\n",
       "      <td>-7.027768</td>\n",
       "    </tr>\n",
       "    <tr>\n",
       "      <th>983</th>\n",
       "      <td>2002-09-10</td>\n",
       "      <td>-33.655555</td>\n",
       "      <td>0.125370</td>\n",
       "      <td>-28.218810</td>\n",
       "      <td>-6.570892</td>\n",
       "    </tr>\n",
       "    <tr>\n",
       "      <th>984</th>\n",
       "      <td>2002-09-11</td>\n",
       "      <td>-31.540470</td>\n",
       "      <td>-0.027397</td>\n",
       "      <td>-28.134285</td>\n",
       "      <td>-6.015826</td>\n",
       "    </tr>\n",
       "    <tr>\n",
       "      <th>985</th>\n",
       "      <td>2002-09-12</td>\n",
       "      <td>-32.421147</td>\n",
       "      <td>-0.946796</td>\n",
       "      <td>-28.204413</td>\n",
       "      <td>-5.437238</td>\n",
       "    </tr>\n",
       "    <tr>\n",
       "      <th>986</th>\n",
       "      <td>2002-09-13</td>\n",
       "      <td>-34.515255</td>\n",
       "      <td>-1.992979</td>\n",
       "      <td>-28.838867</td>\n",
       "      <td>-5.324121</td>\n",
       "    </tr>\n",
       "    <tr>\n",
       "      <th>987</th>\n",
       "      <td>2002-09-14</td>\n",
       "      <td>-33.676996</td>\n",
       "      <td>-1.646270</td>\n",
       "      <td>-29.192282</td>\n",
       "      <td>-5.505497</td>\n",
       "    </tr>\n",
       "    <tr>\n",
       "      <th>988</th>\n",
       "      <td>2002-09-15</td>\n",
       "      <td>-33.918544</td>\n",
       "      <td>-1.349001</td>\n",
       "      <td>-30.116912</td>\n",
       "      <td>-3.097348</td>\n",
       "    </tr>\n",
       "    <tr>\n",
       "      <th>989</th>\n",
       "      <td>2002-09-16</td>\n",
       "      <td>-34.454603</td>\n",
       "      <td>-0.797692</td>\n",
       "      <td>-27.771260</td>\n",
       "      <td>-3.844329</td>\n",
       "    </tr>\n",
       "    <tr>\n",
       "      <th>990</th>\n",
       "      <td>2002-09-17</td>\n",
       "      <td>-34.388859</td>\n",
       "      <td>-0.520848</td>\n",
       "      <td>-26.510626</td>\n",
       "      <td>-3.979649</td>\n",
       "    </tr>\n",
       "    <tr>\n",
       "      <th>991</th>\n",
       "      <td>2002-09-18</td>\n",
       "      <td>-35.141181</td>\n",
       "      <td>-0.612524</td>\n",
       "      <td>-27.352756</td>\n",
       "      <td>-4.062407</td>\n",
       "    </tr>\n",
       "    <tr>\n",
       "      <th>992</th>\n",
       "      <td>2002-09-19</td>\n",
       "      <td>-34.361332</td>\n",
       "      <td>-2.329821</td>\n",
       "      <td>-26.682911</td>\n",
       "      <td>-4.956067</td>\n",
       "    </tr>\n",
       "    <tr>\n",
       "      <th>993</th>\n",
       "      <td>2002-09-20</td>\n",
       "      <td>-35.524558</td>\n",
       "      <td>-2.317325</td>\n",
       "      <td>-25.898883</td>\n",
       "      <td>-3.881458</td>\n",
       "    </tr>\n",
       "    <tr>\n",
       "      <th>994</th>\n",
       "      <td>2002-09-21</td>\n",
       "      <td>-35.840439</td>\n",
       "      <td>-1.984910</td>\n",
       "      <td>-24.973016</td>\n",
       "      <td>-4.622227</td>\n",
       "    </tr>\n",
       "    <tr>\n",
       "      <th>995</th>\n",
       "      <td>2002-09-22</td>\n",
       "      <td>-36.029674</td>\n",
       "      <td>-3.479606</td>\n",
       "      <td>-25.798023</td>\n",
       "      <td>-4.628953</td>\n",
       "    </tr>\n",
       "    <tr>\n",
       "      <th>996</th>\n",
       "      <td>2002-09-23</td>\n",
       "      <td>-35.108588</td>\n",
       "      <td>-3.961301</td>\n",
       "      <td>-26.275178</td>\n",
       "      <td>-4.602160</td>\n",
       "    </tr>\n",
       "    <tr>\n",
       "      <th>997</th>\n",
       "      <td>2002-09-24</td>\n",
       "      <td>-34.805601</td>\n",
       "      <td>-4.076762</td>\n",
       "      <td>-27.813234</td>\n",
       "      <td>-4.091868</td>\n",
       "    </tr>\n",
       "    <tr>\n",
       "      <th>998</th>\n",
       "      <td>2002-09-25</td>\n",
       "      <td>-34.422636</td>\n",
       "      <td>-5.448740</td>\n",
       "      <td>-27.351943</td>\n",
       "      <td>-4.167586</td>\n",
       "    </tr>\n",
       "    <tr>\n",
       "      <th>999</th>\n",
       "      <td>2002-09-26</td>\n",
       "      <td>-34.301673</td>\n",
       "      <td>-4.931151</td>\n",
       "      <td>-27.727163</td>\n",
       "      <td>-3.829965</td>\n",
       "    </tr>\n",
       "  </tbody>\n",
       "</table>\n",
       "<p>1000 rows × 5 columns</p>\n",
       "</div>"
      ],
      "text/plain": [
       "     Unnamed: 0          A         B          C          D\n",
       "0    2000-01-01  -1.623629 -0.879502   0.063585  -0.140951\n",
       "1    2000-01-02  -0.867698 -1.059559   2.275921  -0.748543\n",
       "2    2000-01-03   0.258151  0.376348   1.078156  -0.455451\n",
       "3    2000-01-04   0.780587  0.366950   1.040389   0.258315\n",
       "4    2000-01-05   1.090330 -0.450843   0.499533   0.511777\n",
       "5    2000-01-06   1.300226 -1.045351   1.030346  -0.910923\n",
       "6    2000-01-07   1.821508 -2.109033   1.215532   0.062596\n",
       "7    2000-01-08   0.723305 -1.454431   1.601059   1.142959\n",
       "8    2000-01-09   1.584214 -1.101360   2.984352  -0.087717\n",
       "9    2000-01-10   1.997934 -0.624064   1.136822  -0.316226\n",
       "10   2000-01-11   2.464024 -0.324869   1.235960  -0.615568\n",
       "11   2000-01-12   1.762373  0.935359   2.528106  -1.466176\n",
       "12   2000-01-13   1.206187  0.096424   2.466307  -2.018030\n",
       "13   2000-01-14   2.270714  1.244050   2.114322  -0.693565\n",
       "14   2000-01-15   2.285267  1.508173   1.155284  -1.546704\n",
       "15   2000-01-16   3.136744  0.323729   3.310442  -0.189535\n",
       "16   2000-01-17   2.577935  0.730935   3.421724  -0.739253\n",
       "17   2000-01-18   3.128464  0.504433   1.687140  -1.274874\n",
       "18   2000-01-19   3.276728 -0.014603   0.313198  -2.449037\n",
       "19   2000-01-20   4.350404  1.403040  -0.267495  -3.795346\n",
       "20   2000-01-21   4.406054  1.559208   0.733010  -3.425253\n",
       "21   2000-01-22   4.891972  1.855389   0.920636  -2.529152\n",
       "22   2000-01-23   6.382965  2.385123   1.975531  -2.284615\n",
       "23   2000-01-24   5.870646  3.242570   1.424382  -3.982530\n",
       "24   2000-01-25   4.870075  2.712623   2.183867  -4.184478\n",
       "25   2000-01-26   5.639928  4.332835   1.315091  -5.177791\n",
       "26   2000-01-27   4.186007  3.601698   2.008788  -5.321376\n",
       "27   2000-01-28   4.586539  3.939155   2.785314  -4.621151\n",
       "28   2000-01-29   4.038742  2.504980   2.061961  -3.637398\n",
       "29   2000-01-30   4.889149  3.400180   1.598440  -3.613845\n",
       "..          ...        ...       ...        ...        ...\n",
       "970  2002-08-28 -39.240579  1.423756 -28.625621 -12.600917\n",
       "971  2002-08-29 -38.144459  2.147556 -28.753012 -11.981658\n",
       "972  2002-08-30 -38.967767  1.906785 -28.676376 -11.062326\n",
       "973  2002-08-31 -37.208504  2.166180 -25.223998 -11.518228\n",
       "974  2002-09-01 -36.102075  1.936492 -26.811633 -10.555201\n",
       "975  2002-09-02 -36.902383  1.681023 -27.470691  -9.856965\n",
       "976  2002-09-03 -37.569671  1.620563 -28.021378 -11.247639\n",
       "977  2002-09-04 -36.507713  1.948282 -28.570555 -10.469722\n",
       "978  2002-09-05 -36.628388  0.663327 -29.189567 -11.379816\n",
       "979  2002-09-06 -36.258777  0.470455 -29.192213 -10.425045\n",
       "980  2002-09-07 -36.644647 -0.916020 -29.365058  -9.622349\n",
       "981  2002-09-08 -35.936888 -1.712119 -29.204883  -8.093024\n",
       "982  2002-09-09 -34.799928 -0.944900 -28.623817  -7.027768\n",
       "983  2002-09-10 -33.655555  0.125370 -28.218810  -6.570892\n",
       "984  2002-09-11 -31.540470 -0.027397 -28.134285  -6.015826\n",
       "985  2002-09-12 -32.421147 -0.946796 -28.204413  -5.437238\n",
       "986  2002-09-13 -34.515255 -1.992979 -28.838867  -5.324121\n",
       "987  2002-09-14 -33.676996 -1.646270 -29.192282  -5.505497\n",
       "988  2002-09-15 -33.918544 -1.349001 -30.116912  -3.097348\n",
       "989  2002-09-16 -34.454603 -0.797692 -27.771260  -3.844329\n",
       "990  2002-09-17 -34.388859 -0.520848 -26.510626  -3.979649\n",
       "991  2002-09-18 -35.141181 -0.612524 -27.352756  -4.062407\n",
       "992  2002-09-19 -34.361332 -2.329821 -26.682911  -4.956067\n",
       "993  2002-09-20 -35.524558 -2.317325 -25.898883  -3.881458\n",
       "994  2002-09-21 -35.840439 -1.984910 -24.973016  -4.622227\n",
       "995  2002-09-22 -36.029674 -3.479606 -25.798023  -4.628953\n",
       "996  2002-09-23 -35.108588 -3.961301 -26.275178  -4.602160\n",
       "997  2002-09-24 -34.805601 -4.076762 -27.813234  -4.091868\n",
       "998  2002-09-25 -34.422636 -5.448740 -27.351943  -4.167586\n",
       "999  2002-09-26 -34.301673 -4.931151 -27.727163  -3.829965\n",
       "\n",
       "[1000 rows x 5 columns]"
      ]
     },
     "execution_count": 10,
     "metadata": {},
     "output_type": "execute_result"
    }
   ],
   "source": [
    "pd.read_csv('foo.csv')"
   ]
  },
  {
   "cell_type": "code",
   "execution_count": 11,
   "metadata": {
    "collapsed": true
   },
   "outputs": [],
   "source": [
    "df.to_excel('foo.xlsx', sheet_name='Sheet1')"
   ]
  },
  {
   "cell_type": "code",
   "execution_count": 12,
   "metadata": {
    "collapsed": true
   },
   "outputs": [
    {
     "data": {
      "text/html": [
       "<div>\n",
       "<table border=\"1\" class=\"dataframe\">\n",
       "  <thead>\n",
       "    <tr style=\"text-align: right;\">\n",
       "      <th></th>\n",
       "      <th>A</th>\n",
       "      <th>B</th>\n",
       "      <th>C</th>\n",
       "      <th>D</th>\n",
       "    </tr>\n",
       "  </thead>\n",
       "  <tbody>\n",
       "    <tr>\n",
       "      <th>2000-01-01</th>\n",
       "      <td>-1.623629</td>\n",
       "      <td>-0.879502</td>\n",
       "      <td>0.063585</td>\n",
       "      <td>-0.140951</td>\n",
       "    </tr>\n",
       "    <tr>\n",
       "      <th>2000-01-02</th>\n",
       "      <td>-0.867698</td>\n",
       "      <td>-1.059559</td>\n",
       "      <td>2.275921</td>\n",
       "      <td>-0.748543</td>\n",
       "    </tr>\n",
       "    <tr>\n",
       "      <th>2000-01-03</th>\n",
       "      <td>0.258151</td>\n",
       "      <td>0.376348</td>\n",
       "      <td>1.078156</td>\n",
       "      <td>-0.455451</td>\n",
       "    </tr>\n",
       "    <tr>\n",
       "      <th>2000-01-04</th>\n",
       "      <td>0.780587</td>\n",
       "      <td>0.366950</td>\n",
       "      <td>1.040389</td>\n",
       "      <td>0.258315</td>\n",
       "    </tr>\n",
       "    <tr>\n",
       "      <th>2000-01-05</th>\n",
       "      <td>1.090330</td>\n",
       "      <td>-0.450843</td>\n",
       "      <td>0.499533</td>\n",
       "      <td>0.511777</td>\n",
       "    </tr>\n",
       "    <tr>\n",
       "      <th>2000-01-06</th>\n",
       "      <td>1.300226</td>\n",
       "      <td>-1.045351</td>\n",
       "      <td>1.030346</td>\n",
       "      <td>-0.910923</td>\n",
       "    </tr>\n",
       "    <tr>\n",
       "      <th>2000-01-07</th>\n",
       "      <td>1.821508</td>\n",
       "      <td>-2.109033</td>\n",
       "      <td>1.215532</td>\n",
       "      <td>0.062596</td>\n",
       "    </tr>\n",
       "    <tr>\n",
       "      <th>2000-01-08</th>\n",
       "      <td>0.723305</td>\n",
       "      <td>-1.454431</td>\n",
       "      <td>1.601059</td>\n",
       "      <td>1.142959</td>\n",
       "    </tr>\n",
       "    <tr>\n",
       "      <th>2000-01-09</th>\n",
       "      <td>1.584214</td>\n",
       "      <td>-1.101360</td>\n",
       "      <td>2.984352</td>\n",
       "      <td>-0.087717</td>\n",
       "    </tr>\n",
       "    <tr>\n",
       "      <th>2000-01-10</th>\n",
       "      <td>1.997934</td>\n",
       "      <td>-0.624064</td>\n",
       "      <td>1.136822</td>\n",
       "      <td>-0.316226</td>\n",
       "    </tr>\n",
       "    <tr>\n",
       "      <th>2000-01-11</th>\n",
       "      <td>2.464024</td>\n",
       "      <td>-0.324869</td>\n",
       "      <td>1.235960</td>\n",
       "      <td>-0.615568</td>\n",
       "    </tr>\n",
       "    <tr>\n",
       "      <th>2000-01-12</th>\n",
       "      <td>1.762373</td>\n",
       "      <td>0.935359</td>\n",
       "      <td>2.528106</td>\n",
       "      <td>-1.466176</td>\n",
       "    </tr>\n",
       "    <tr>\n",
       "      <th>2000-01-13</th>\n",
       "      <td>1.206187</td>\n",
       "      <td>0.096424</td>\n",
       "      <td>2.466307</td>\n",
       "      <td>-2.018030</td>\n",
       "    </tr>\n",
       "    <tr>\n",
       "      <th>2000-01-14</th>\n",
       "      <td>2.270714</td>\n",
       "      <td>1.244050</td>\n",
       "      <td>2.114322</td>\n",
       "      <td>-0.693565</td>\n",
       "    </tr>\n",
       "    <tr>\n",
       "      <th>2000-01-15</th>\n",
       "      <td>2.285267</td>\n",
       "      <td>1.508173</td>\n",
       "      <td>1.155284</td>\n",
       "      <td>-1.546704</td>\n",
       "    </tr>\n",
       "    <tr>\n",
       "      <th>2000-01-16</th>\n",
       "      <td>3.136744</td>\n",
       "      <td>0.323729</td>\n",
       "      <td>3.310442</td>\n",
       "      <td>-0.189535</td>\n",
       "    </tr>\n",
       "    <tr>\n",
       "      <th>2000-01-17</th>\n",
       "      <td>2.577935</td>\n",
       "      <td>0.730935</td>\n",
       "      <td>3.421724</td>\n",
       "      <td>-0.739253</td>\n",
       "    </tr>\n",
       "    <tr>\n",
       "      <th>2000-01-18</th>\n",
       "      <td>3.128464</td>\n",
       "      <td>0.504433</td>\n",
       "      <td>1.687140</td>\n",
       "      <td>-1.274874</td>\n",
       "    </tr>\n",
       "    <tr>\n",
       "      <th>2000-01-19</th>\n",
       "      <td>3.276728</td>\n",
       "      <td>-0.014603</td>\n",
       "      <td>0.313198</td>\n",
       "      <td>-2.449037</td>\n",
       "    </tr>\n",
       "    <tr>\n",
       "      <th>2000-01-20</th>\n",
       "      <td>4.350404</td>\n",
       "      <td>1.403040</td>\n",
       "      <td>-0.267495</td>\n",
       "      <td>-3.795346</td>\n",
       "    </tr>\n",
       "    <tr>\n",
       "      <th>2000-01-21</th>\n",
       "      <td>4.406054</td>\n",
       "      <td>1.559208</td>\n",
       "      <td>0.733010</td>\n",
       "      <td>-3.425253</td>\n",
       "    </tr>\n",
       "    <tr>\n",
       "      <th>2000-01-22</th>\n",
       "      <td>4.891972</td>\n",
       "      <td>1.855389</td>\n",
       "      <td>0.920636</td>\n",
       "      <td>-2.529152</td>\n",
       "    </tr>\n",
       "    <tr>\n",
       "      <th>2000-01-23</th>\n",
       "      <td>6.382965</td>\n",
       "      <td>2.385123</td>\n",
       "      <td>1.975531</td>\n",
       "      <td>-2.284615</td>\n",
       "    </tr>\n",
       "    <tr>\n",
       "      <th>2000-01-24</th>\n",
       "      <td>5.870646</td>\n",
       "      <td>3.242570</td>\n",
       "      <td>1.424382</td>\n",
       "      <td>-3.982530</td>\n",
       "    </tr>\n",
       "    <tr>\n",
       "      <th>2000-01-25</th>\n",
       "      <td>4.870075</td>\n",
       "      <td>2.712623</td>\n",
       "      <td>2.183867</td>\n",
       "      <td>-4.184478</td>\n",
       "    </tr>\n",
       "    <tr>\n",
       "      <th>2000-01-26</th>\n",
       "      <td>5.639928</td>\n",
       "      <td>4.332835</td>\n",
       "      <td>1.315091</td>\n",
       "      <td>-5.177791</td>\n",
       "    </tr>\n",
       "    <tr>\n",
       "      <th>2000-01-27</th>\n",
       "      <td>4.186007</td>\n",
       "      <td>3.601698</td>\n",
       "      <td>2.008788</td>\n",
       "      <td>-5.321376</td>\n",
       "    </tr>\n",
       "    <tr>\n",
       "      <th>2000-01-28</th>\n",
       "      <td>4.586539</td>\n",
       "      <td>3.939155</td>\n",
       "      <td>2.785314</td>\n",
       "      <td>-4.621151</td>\n",
       "    </tr>\n",
       "    <tr>\n",
       "      <th>2000-01-29</th>\n",
       "      <td>4.038742</td>\n",
       "      <td>2.504980</td>\n",
       "      <td>2.061961</td>\n",
       "      <td>-3.637398</td>\n",
       "    </tr>\n",
       "    <tr>\n",
       "      <th>2000-01-30</th>\n",
       "      <td>4.889149</td>\n",
       "      <td>3.400180</td>\n",
       "      <td>1.598440</td>\n",
       "      <td>-3.613845</td>\n",
       "    </tr>\n",
       "    <tr>\n",
       "      <th>...</th>\n",
       "      <td>...</td>\n",
       "      <td>...</td>\n",
       "      <td>...</td>\n",
       "      <td>...</td>\n",
       "    </tr>\n",
       "    <tr>\n",
       "      <th>2002-08-28</th>\n",
       "      <td>-39.240579</td>\n",
       "      <td>1.423756</td>\n",
       "      <td>-28.625621</td>\n",
       "      <td>-12.600917</td>\n",
       "    </tr>\n",
       "    <tr>\n",
       "      <th>2002-08-29</th>\n",
       "      <td>-38.144459</td>\n",
       "      <td>2.147556</td>\n",
       "      <td>-28.753012</td>\n",
       "      <td>-11.981658</td>\n",
       "    </tr>\n",
       "    <tr>\n",
       "      <th>2002-08-30</th>\n",
       "      <td>-38.967767</td>\n",
       "      <td>1.906785</td>\n",
       "      <td>-28.676376</td>\n",
       "      <td>-11.062326</td>\n",
       "    </tr>\n",
       "    <tr>\n",
       "      <th>2002-08-31</th>\n",
       "      <td>-37.208504</td>\n",
       "      <td>2.166180</td>\n",
       "      <td>-25.223998</td>\n",
       "      <td>-11.518228</td>\n",
       "    </tr>\n",
       "    <tr>\n",
       "      <th>2002-09-01</th>\n",
       "      <td>-36.102075</td>\n",
       "      <td>1.936492</td>\n",
       "      <td>-26.811633</td>\n",
       "      <td>-10.555201</td>\n",
       "    </tr>\n",
       "    <tr>\n",
       "      <th>2002-09-02</th>\n",
       "      <td>-36.902383</td>\n",
       "      <td>1.681023</td>\n",
       "      <td>-27.470691</td>\n",
       "      <td>-9.856965</td>\n",
       "    </tr>\n",
       "    <tr>\n",
       "      <th>2002-09-03</th>\n",
       "      <td>-37.569671</td>\n",
       "      <td>1.620563</td>\n",
       "      <td>-28.021378</td>\n",
       "      <td>-11.247639</td>\n",
       "    </tr>\n",
       "    <tr>\n",
       "      <th>2002-09-04</th>\n",
       "      <td>-36.507713</td>\n",
       "      <td>1.948282</td>\n",
       "      <td>-28.570555</td>\n",
       "      <td>-10.469722</td>\n",
       "    </tr>\n",
       "    <tr>\n",
       "      <th>2002-09-05</th>\n",
       "      <td>-36.628388</td>\n",
       "      <td>0.663327</td>\n",
       "      <td>-29.189567</td>\n",
       "      <td>-11.379816</td>\n",
       "    </tr>\n",
       "    <tr>\n",
       "      <th>2002-09-06</th>\n",
       "      <td>-36.258777</td>\n",
       "      <td>0.470455</td>\n",
       "      <td>-29.192213</td>\n",
       "      <td>-10.425045</td>\n",
       "    </tr>\n",
       "    <tr>\n",
       "      <th>2002-09-07</th>\n",
       "      <td>-36.644647</td>\n",
       "      <td>-0.916020</td>\n",
       "      <td>-29.365058</td>\n",
       "      <td>-9.622349</td>\n",
       "    </tr>\n",
       "    <tr>\n",
       "      <th>2002-09-08</th>\n",
       "      <td>-35.936888</td>\n",
       "      <td>-1.712119</td>\n",
       "      <td>-29.204883</td>\n",
       "      <td>-8.093024</td>\n",
       "    </tr>\n",
       "    <tr>\n",
       "      <th>2002-09-09</th>\n",
       "      <td>-34.799928</td>\n",
       "      <td>-0.944900</td>\n",
       "      <td>-28.623817</td>\n",
       "      <td>-7.027768</td>\n",
       "    </tr>\n",
       "    <tr>\n",
       "      <th>2002-09-10</th>\n",
       "      <td>-33.655555</td>\n",
       "      <td>0.125370</td>\n",
       "      <td>-28.218810</td>\n",
       "      <td>-6.570892</td>\n",
       "    </tr>\n",
       "    <tr>\n",
       "      <th>2002-09-11</th>\n",
       "      <td>-31.540470</td>\n",
       "      <td>-0.027397</td>\n",
       "      <td>-28.134285</td>\n",
       "      <td>-6.015826</td>\n",
       "    </tr>\n",
       "    <tr>\n",
       "      <th>2002-09-12</th>\n",
       "      <td>-32.421147</td>\n",
       "      <td>-0.946796</td>\n",
       "      <td>-28.204413</td>\n",
       "      <td>-5.437238</td>\n",
       "    </tr>\n",
       "    <tr>\n",
       "      <th>2002-09-13</th>\n",
       "      <td>-34.515255</td>\n",
       "      <td>-1.992979</td>\n",
       "      <td>-28.838867</td>\n",
       "      <td>-5.324121</td>\n",
       "    </tr>\n",
       "    <tr>\n",
       "      <th>2002-09-14</th>\n",
       "      <td>-33.676996</td>\n",
       "      <td>-1.646270</td>\n",
       "      <td>-29.192282</td>\n",
       "      <td>-5.505497</td>\n",
       "    </tr>\n",
       "    <tr>\n",
       "      <th>2002-09-15</th>\n",
       "      <td>-33.918544</td>\n",
       "      <td>-1.349001</td>\n",
       "      <td>-30.116912</td>\n",
       "      <td>-3.097348</td>\n",
       "    </tr>\n",
       "    <tr>\n",
       "      <th>2002-09-16</th>\n",
       "      <td>-34.454603</td>\n",
       "      <td>-0.797692</td>\n",
       "      <td>-27.771260</td>\n",
       "      <td>-3.844329</td>\n",
       "    </tr>\n",
       "    <tr>\n",
       "      <th>2002-09-17</th>\n",
       "      <td>-34.388859</td>\n",
       "      <td>-0.520848</td>\n",
       "      <td>-26.510626</td>\n",
       "      <td>-3.979649</td>\n",
       "    </tr>\n",
       "    <tr>\n",
       "      <th>2002-09-18</th>\n",
       "      <td>-35.141181</td>\n",
       "      <td>-0.612524</td>\n",
       "      <td>-27.352756</td>\n",
       "      <td>-4.062407</td>\n",
       "    </tr>\n",
       "    <tr>\n",
       "      <th>2002-09-19</th>\n",
       "      <td>-34.361332</td>\n",
       "      <td>-2.329821</td>\n",
       "      <td>-26.682911</td>\n",
       "      <td>-4.956067</td>\n",
       "    </tr>\n",
       "    <tr>\n",
       "      <th>2002-09-20</th>\n",
       "      <td>-35.524558</td>\n",
       "      <td>-2.317325</td>\n",
       "      <td>-25.898883</td>\n",
       "      <td>-3.881458</td>\n",
       "    </tr>\n",
       "    <tr>\n",
       "      <th>2002-09-21</th>\n",
       "      <td>-35.840439</td>\n",
       "      <td>-1.984910</td>\n",
       "      <td>-24.973016</td>\n",
       "      <td>-4.622227</td>\n",
       "    </tr>\n",
       "    <tr>\n",
       "      <th>2002-09-22</th>\n",
       "      <td>-36.029674</td>\n",
       "      <td>-3.479606</td>\n",
       "      <td>-25.798023</td>\n",
       "      <td>-4.628953</td>\n",
       "    </tr>\n",
       "    <tr>\n",
       "      <th>2002-09-23</th>\n",
       "      <td>-35.108588</td>\n",
       "      <td>-3.961301</td>\n",
       "      <td>-26.275178</td>\n",
       "      <td>-4.602160</td>\n",
       "    </tr>\n",
       "    <tr>\n",
       "      <th>2002-09-24</th>\n",
       "      <td>-34.805601</td>\n",
       "      <td>-4.076762</td>\n",
       "      <td>-27.813234</td>\n",
       "      <td>-4.091868</td>\n",
       "    </tr>\n",
       "    <tr>\n",
       "      <th>2002-09-25</th>\n",
       "      <td>-34.422636</td>\n",
       "      <td>-5.448740</td>\n",
       "      <td>-27.351943</td>\n",
       "      <td>-4.167586</td>\n",
       "    </tr>\n",
       "    <tr>\n",
       "      <th>2002-09-26</th>\n",
       "      <td>-34.301673</td>\n",
       "      <td>-4.931151</td>\n",
       "      <td>-27.727163</td>\n",
       "      <td>-3.829965</td>\n",
       "    </tr>\n",
       "  </tbody>\n",
       "</table>\n",
       "<p>1000 rows × 4 columns</p>\n",
       "</div>"
      ],
      "text/plain": [
       "                    A         B          C          D\n",
       "2000-01-01  -1.623629 -0.879502   0.063585  -0.140951\n",
       "2000-01-02  -0.867698 -1.059559   2.275921  -0.748543\n",
       "2000-01-03   0.258151  0.376348   1.078156  -0.455451\n",
       "2000-01-04   0.780587  0.366950   1.040389   0.258315\n",
       "2000-01-05   1.090330 -0.450843   0.499533   0.511777\n",
       "2000-01-06   1.300226 -1.045351   1.030346  -0.910923\n",
       "2000-01-07   1.821508 -2.109033   1.215532   0.062596\n",
       "2000-01-08   0.723305 -1.454431   1.601059   1.142959\n",
       "2000-01-09   1.584214 -1.101360   2.984352  -0.087717\n",
       "2000-01-10   1.997934 -0.624064   1.136822  -0.316226\n",
       "2000-01-11   2.464024 -0.324869   1.235960  -0.615568\n",
       "2000-01-12   1.762373  0.935359   2.528106  -1.466176\n",
       "2000-01-13   1.206187  0.096424   2.466307  -2.018030\n",
       "2000-01-14   2.270714  1.244050   2.114322  -0.693565\n",
       "2000-01-15   2.285267  1.508173   1.155284  -1.546704\n",
       "2000-01-16   3.136744  0.323729   3.310442  -0.189535\n",
       "2000-01-17   2.577935  0.730935   3.421724  -0.739253\n",
       "2000-01-18   3.128464  0.504433   1.687140  -1.274874\n",
       "2000-01-19   3.276728 -0.014603   0.313198  -2.449037\n",
       "2000-01-20   4.350404  1.403040  -0.267495  -3.795346\n",
       "2000-01-21   4.406054  1.559208   0.733010  -3.425253\n",
       "2000-01-22   4.891972  1.855389   0.920636  -2.529152\n",
       "2000-01-23   6.382965  2.385123   1.975531  -2.284615\n",
       "2000-01-24   5.870646  3.242570   1.424382  -3.982530\n",
       "2000-01-25   4.870075  2.712623   2.183867  -4.184478\n",
       "2000-01-26   5.639928  4.332835   1.315091  -5.177791\n",
       "2000-01-27   4.186007  3.601698   2.008788  -5.321376\n",
       "2000-01-28   4.586539  3.939155   2.785314  -4.621151\n",
       "2000-01-29   4.038742  2.504980   2.061961  -3.637398\n",
       "2000-01-30   4.889149  3.400180   1.598440  -3.613845\n",
       "...               ...       ...        ...        ...\n",
       "2002-08-28 -39.240579  1.423756 -28.625621 -12.600917\n",
       "2002-08-29 -38.144459  2.147556 -28.753012 -11.981658\n",
       "2002-08-30 -38.967767  1.906785 -28.676376 -11.062326\n",
       "2002-08-31 -37.208504  2.166180 -25.223998 -11.518228\n",
       "2002-09-01 -36.102075  1.936492 -26.811633 -10.555201\n",
       "2002-09-02 -36.902383  1.681023 -27.470691  -9.856965\n",
       "2002-09-03 -37.569671  1.620563 -28.021378 -11.247639\n",
       "2002-09-04 -36.507713  1.948282 -28.570555 -10.469722\n",
       "2002-09-05 -36.628388  0.663327 -29.189567 -11.379816\n",
       "2002-09-06 -36.258777  0.470455 -29.192213 -10.425045\n",
       "2002-09-07 -36.644647 -0.916020 -29.365058  -9.622349\n",
       "2002-09-08 -35.936888 -1.712119 -29.204883  -8.093024\n",
       "2002-09-09 -34.799928 -0.944900 -28.623817  -7.027768\n",
       "2002-09-10 -33.655555  0.125370 -28.218810  -6.570892\n",
       "2002-09-11 -31.540470 -0.027397 -28.134285  -6.015826\n",
       "2002-09-12 -32.421147 -0.946796 -28.204413  -5.437238\n",
       "2002-09-13 -34.515255 -1.992979 -28.838867  -5.324121\n",
       "2002-09-14 -33.676996 -1.646270 -29.192282  -5.505497\n",
       "2002-09-15 -33.918544 -1.349001 -30.116912  -3.097348\n",
       "2002-09-16 -34.454603 -0.797692 -27.771260  -3.844329\n",
       "2002-09-17 -34.388859 -0.520848 -26.510626  -3.979649\n",
       "2002-09-18 -35.141181 -0.612524 -27.352756  -4.062407\n",
       "2002-09-19 -34.361332 -2.329821 -26.682911  -4.956067\n",
       "2002-09-20 -35.524558 -2.317325 -25.898883  -3.881458\n",
       "2002-09-21 -35.840439 -1.984910 -24.973016  -4.622227\n",
       "2002-09-22 -36.029674 -3.479606 -25.798023  -4.628953\n",
       "2002-09-23 -35.108588 -3.961301 -26.275178  -4.602160\n",
       "2002-09-24 -34.805601 -4.076762 -27.813234  -4.091868\n",
       "2002-09-25 -34.422636 -5.448740 -27.351943  -4.167586\n",
       "2002-09-26 -34.301673 -4.931151 -27.727163  -3.829965\n",
       "\n",
       "[1000 rows x 4 columns]"
      ]
     },
     "execution_count": 12,
     "metadata": {},
     "output_type": "execute_result"
    }
   ],
   "source": [
    "pd.read_excel('foo.xlsx', 'Sheet1', index_col=None, na_values=['NA'])"
   ]
  }
 ],
 "metadata": {
  "kernelspec": {
   "display_name": "Python 3",
   "language": "python",
   "name": "python3"
  },
  "language_info": {
   "codemirror_mode": {
    "name": "ipython",
    "version": 3
   },
   "file_extension": ".py",
   "mimetype": "text/x-python",
   "name": "python",
   "nbconvert_exporter": "python",
   "pygments_lexer": "ipython3",
   "version": "3.5.1"
  }
 },
 "nbformat": 4,
 "nbformat_minor": 0
}
